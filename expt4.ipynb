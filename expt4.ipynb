{
 "cells": [
  {
   "cell_type": "code",
   "execution_count": 1,
   "metadata": {
    "executionInfo": {
     "elapsed": 899,
     "status": "ok",
     "timestamp": 1659533938587,
     "user": {
      "displayName": "Karpagam K",
      "userId": "15140805608201077842"
     },
     "user_tz": -330
    },
    "id": "eIxMnnhQ6WF1"
   },
   "outputs": [
    {
     "name": "stderr",
     "output_type": "stream",
     "text": [
      "C:\\Users\\sachi\\anaconda3\\lib\\site-packages\\numpy\\_distributor_init.py:30: UserWarning: loaded more than 1 DLL from .libs:\n",
      "C:\\Users\\sachi\\anaconda3\\lib\\site-packages\\numpy\\.libs\\libopenblas.PYQHXLVVQ7VESDPUVUADXEVJOBGHJPAY.gfortran-win_amd64.dll\n",
      "C:\\Users\\sachi\\anaconda3\\lib\\site-packages\\numpy\\.libs\\libopenblas.WCDJNK7YVMPZQ2ME2ZZHJJRJ3JIKNDB7.gfortran-win_amd64.dll\n",
      "  warnings.warn(\"loaded more than 1 DLL from .libs:\"\n"
     ]
    }
   ],
   "source": [
    "import pandas as pd"
   ]
  },
  {
   "cell_type": "code",
   "execution_count": null,
   "metadata": {
    "colab": {
     "base_uri": "https://localhost:8080/"
    },
    "executionInfo": {
     "elapsed": 3574,
     "status": "ok",
     "timestamp": 1659533945297,
     "user": {
      "displayName": "Karpagam K",
      "userId": "15140805608201077842"
     },
     "user_tz": -330
    },
    "id": "hnxEIkWB7LHi",
    "outputId": "534a9e40-73ad-4b1e-e97c-396a3a055f56"
   },
   "outputs": [],
   "source": []
  },
  {
   "cell_type": "code",
   "execution_count": 2,
   "metadata": {
    "executionInfo": {
     "elapsed": 399,
     "status": "ok",
     "timestamp": 1659533949448,
     "user": {
      "displayName": "Karpagam K",
      "userId": "15140805608201077842"
     },
     "user_tz": -330
    },
    "id": "bGvbZibg61zP"
   },
   "outputs": [],
   "source": [
    "df = pd.read_csv('housepricedata.csv')"
   ]
  },
  {
   "cell_type": "code",
   "execution_count": 3,
   "metadata": {
    "colab": {
     "base_uri": "https://localhost:8080/",
     "height": 424
    },
    "executionInfo": {
     "elapsed": 408,
     "status": "ok",
     "timestamp": 1659533969522,
     "user": {
      "displayName": "Karpagam K",
      "userId": "15140805608201077842"
     },
     "user_tz": -330
    },
    "id": "ax0uPuuD7hd2",
    "outputId": "d1b7a24b-5475-46ec-f9dd-af295fb54063"
   },
   "outputs": [
    {
     "data": {
      "text/html": [
       "<div>\n",
       "<style scoped>\n",
       "    .dataframe tbody tr th:only-of-type {\n",
       "        vertical-align: middle;\n",
       "    }\n",
       "\n",
       "    .dataframe tbody tr th {\n",
       "        vertical-align: top;\n",
       "    }\n",
       "\n",
       "    .dataframe thead th {\n",
       "        text-align: right;\n",
       "    }\n",
       "</style>\n",
       "<table border=\"1\" class=\"dataframe\">\n",
       "  <thead>\n",
       "    <tr style=\"text-align: right;\">\n",
       "      <th></th>\n",
       "      <th>LotArea</th>\n",
       "      <th>OverallQual</th>\n",
       "      <th>OverallCond</th>\n",
       "      <th>TotalBsmtSF</th>\n",
       "      <th>FullBath</th>\n",
       "      <th>HalfBath</th>\n",
       "      <th>BedroomAbvGr</th>\n",
       "      <th>TotRmsAbvGrd</th>\n",
       "      <th>Fireplaces</th>\n",
       "      <th>GarageArea</th>\n",
       "      <th>AboveMedianPrice</th>\n",
       "    </tr>\n",
       "  </thead>\n",
       "  <tbody>\n",
       "    <tr>\n",
       "      <th>0</th>\n",
       "      <td>8450</td>\n",
       "      <td>7</td>\n",
       "      <td>5</td>\n",
       "      <td>856</td>\n",
       "      <td>2</td>\n",
       "      <td>1</td>\n",
       "      <td>3</td>\n",
       "      <td>8</td>\n",
       "      <td>0</td>\n",
       "      <td>548</td>\n",
       "      <td>1</td>\n",
       "    </tr>\n",
       "    <tr>\n",
       "      <th>1</th>\n",
       "      <td>9600</td>\n",
       "      <td>6</td>\n",
       "      <td>8</td>\n",
       "      <td>1262</td>\n",
       "      <td>2</td>\n",
       "      <td>0</td>\n",
       "      <td>3</td>\n",
       "      <td>6</td>\n",
       "      <td>1</td>\n",
       "      <td>460</td>\n",
       "      <td>1</td>\n",
       "    </tr>\n",
       "    <tr>\n",
       "      <th>2</th>\n",
       "      <td>11250</td>\n",
       "      <td>7</td>\n",
       "      <td>5</td>\n",
       "      <td>920</td>\n",
       "      <td>2</td>\n",
       "      <td>1</td>\n",
       "      <td>3</td>\n",
       "      <td>6</td>\n",
       "      <td>1</td>\n",
       "      <td>608</td>\n",
       "      <td>1</td>\n",
       "    </tr>\n",
       "    <tr>\n",
       "      <th>3</th>\n",
       "      <td>9550</td>\n",
       "      <td>7</td>\n",
       "      <td>5</td>\n",
       "      <td>756</td>\n",
       "      <td>1</td>\n",
       "      <td>0</td>\n",
       "      <td>3</td>\n",
       "      <td>7</td>\n",
       "      <td>1</td>\n",
       "      <td>642</td>\n",
       "      <td>0</td>\n",
       "    </tr>\n",
       "    <tr>\n",
       "      <th>4</th>\n",
       "      <td>14260</td>\n",
       "      <td>8</td>\n",
       "      <td>5</td>\n",
       "      <td>1145</td>\n",
       "      <td>2</td>\n",
       "      <td>1</td>\n",
       "      <td>4</td>\n",
       "      <td>9</td>\n",
       "      <td>1</td>\n",
       "      <td>836</td>\n",
       "      <td>1</td>\n",
       "    </tr>\n",
       "    <tr>\n",
       "      <th>...</th>\n",
       "      <td>...</td>\n",
       "      <td>...</td>\n",
       "      <td>...</td>\n",
       "      <td>...</td>\n",
       "      <td>...</td>\n",
       "      <td>...</td>\n",
       "      <td>...</td>\n",
       "      <td>...</td>\n",
       "      <td>...</td>\n",
       "      <td>...</td>\n",
       "      <td>...</td>\n",
       "    </tr>\n",
       "    <tr>\n",
       "      <th>1455</th>\n",
       "      <td>7917</td>\n",
       "      <td>6</td>\n",
       "      <td>5</td>\n",
       "      <td>953</td>\n",
       "      <td>2</td>\n",
       "      <td>1</td>\n",
       "      <td>3</td>\n",
       "      <td>7</td>\n",
       "      <td>1</td>\n",
       "      <td>460</td>\n",
       "      <td>1</td>\n",
       "    </tr>\n",
       "    <tr>\n",
       "      <th>1456</th>\n",
       "      <td>13175</td>\n",
       "      <td>6</td>\n",
       "      <td>6</td>\n",
       "      <td>1542</td>\n",
       "      <td>2</td>\n",
       "      <td>0</td>\n",
       "      <td>3</td>\n",
       "      <td>7</td>\n",
       "      <td>2</td>\n",
       "      <td>500</td>\n",
       "      <td>1</td>\n",
       "    </tr>\n",
       "    <tr>\n",
       "      <th>1457</th>\n",
       "      <td>9042</td>\n",
       "      <td>7</td>\n",
       "      <td>9</td>\n",
       "      <td>1152</td>\n",
       "      <td>2</td>\n",
       "      <td>0</td>\n",
       "      <td>4</td>\n",
       "      <td>9</td>\n",
       "      <td>2</td>\n",
       "      <td>252</td>\n",
       "      <td>1</td>\n",
       "    </tr>\n",
       "    <tr>\n",
       "      <th>1458</th>\n",
       "      <td>9717</td>\n",
       "      <td>5</td>\n",
       "      <td>6</td>\n",
       "      <td>1078</td>\n",
       "      <td>1</td>\n",
       "      <td>0</td>\n",
       "      <td>2</td>\n",
       "      <td>5</td>\n",
       "      <td>0</td>\n",
       "      <td>240</td>\n",
       "      <td>0</td>\n",
       "    </tr>\n",
       "    <tr>\n",
       "      <th>1459</th>\n",
       "      <td>9937</td>\n",
       "      <td>5</td>\n",
       "      <td>6</td>\n",
       "      <td>1256</td>\n",
       "      <td>1</td>\n",
       "      <td>1</td>\n",
       "      <td>3</td>\n",
       "      <td>6</td>\n",
       "      <td>0</td>\n",
       "      <td>276</td>\n",
       "      <td>0</td>\n",
       "    </tr>\n",
       "  </tbody>\n",
       "</table>\n",
       "<p>1460 rows × 11 columns</p>\n",
       "</div>"
      ],
      "text/plain": [
       "      LotArea  OverallQual  OverallCond  TotalBsmtSF  FullBath  HalfBath  \\\n",
       "0        8450            7            5          856         2         1   \n",
       "1        9600            6            8         1262         2         0   \n",
       "2       11250            7            5          920         2         1   \n",
       "3        9550            7            5          756         1         0   \n",
       "4       14260            8            5         1145         2         1   \n",
       "...       ...          ...          ...          ...       ...       ...   \n",
       "1455     7917            6            5          953         2         1   \n",
       "1456    13175            6            6         1542         2         0   \n",
       "1457     9042            7            9         1152         2         0   \n",
       "1458     9717            5            6         1078         1         0   \n",
       "1459     9937            5            6         1256         1         1   \n",
       "\n",
       "      BedroomAbvGr  TotRmsAbvGrd  Fireplaces  GarageArea  AboveMedianPrice  \n",
       "0                3             8           0         548                 1  \n",
       "1                3             6           1         460                 1  \n",
       "2                3             6           1         608                 1  \n",
       "3                3             7           1         642                 0  \n",
       "4                4             9           1         836                 1  \n",
       "...            ...           ...         ...         ...               ...  \n",
       "1455             3             7           1         460                 1  \n",
       "1456             3             7           2         500                 1  \n",
       "1457             4             9           2         252                 1  \n",
       "1458             2             5           0         240                 0  \n",
       "1459             3             6           0         276                 0  \n",
       "\n",
       "[1460 rows x 11 columns]"
      ]
     },
     "execution_count": 3,
     "metadata": {},
     "output_type": "execute_result"
    }
   ],
   "source": [
    "df\n"
   ]
  },
  {
   "cell_type": "code",
   "execution_count": 4,
   "metadata": {
    "executionInfo": {
     "elapsed": 444,
     "status": "ok",
     "timestamp": 1659533999538,
     "user": {
      "displayName": "Karpagam K",
      "userId": "15140805608201077842"
     },
     "user_tz": -330
    },
    "id": "0rUmCFWQ7sKN"
   },
   "outputs": [],
   "source": [
    "dataset = df.values"
   ]
  },
  {
   "cell_type": "code",
   "execution_count": 5,
   "metadata": {
    "colab": {
     "base_uri": "https://localhost:8080/"
    },
    "executionInfo": {
     "elapsed": 400,
     "status": "ok",
     "timestamp": 1659534016700,
     "user": {
      "displayName": "Karpagam K",
      "userId": "15140805608201077842"
     },
     "user_tz": -330
    },
    "id": "Ho0KOxL97zf1",
    "outputId": "6949d9c1-1a5b-4659-94ab-c457220739f6"
   },
   "outputs": [
    {
     "data": {
      "text/plain": [
       "array([[ 8450,     7,     5, ...,     0,   548,     1],\n",
       "       [ 9600,     6,     8, ...,     1,   460,     1],\n",
       "       [11250,     7,     5, ...,     1,   608,     1],\n",
       "       ...,\n",
       "       [ 9042,     7,     9, ...,     2,   252,     1],\n",
       "       [ 9717,     5,     6, ...,     0,   240,     0],\n",
       "       [ 9937,     5,     6, ...,     0,   276,     0]], dtype=int64)"
      ]
     },
     "execution_count": 5,
     "metadata": {},
     "output_type": "execute_result"
    }
   ],
   "source": [
    "dataset"
   ]
  },
  {
   "cell_type": "code",
   "execution_count": 6,
   "metadata": {
    "executionInfo": {
     "elapsed": 413,
     "status": "ok",
     "timestamp": 1659534031601,
     "user": {
      "displayName": "Karpagam K",
      "userId": "15140805608201077842"
     },
     "user_tz": -330
    },
    "id": "f_HI7k9q73sI"
   },
   "outputs": [],
   "source": [
    "X = dataset[:,0:10]"
   ]
  },
  {
   "cell_type": "code",
   "execution_count": 7,
   "metadata": {
    "executionInfo": {
     "elapsed": 386,
     "status": "ok",
     "timestamp": 1659534044404,
     "user": {
      "displayName": "Karpagam K",
      "userId": "15140805608201077842"
     },
     "user_tz": -330
    },
    "id": "3b3HJoXN77Vw"
   },
   "outputs": [],
   "source": [
    "Y = dataset[:,10]"
   ]
  },
  {
   "cell_type": "code",
   "execution_count": 8,
   "metadata": {
    "executionInfo": {
     "elapsed": 1042,
     "status": "ok",
     "timestamp": 1659534063203,
     "user": {
      "displayName": "Karpagam K",
      "userId": "15140805608201077842"
     },
     "user_tz": -330
    },
    "id": "BAjY704C7-Rt"
   },
   "outputs": [],
   "source": [
    "from sklearn import preprocessing"
   ]
  },
  {
   "cell_type": "code",
   "execution_count": 9,
   "metadata": {
    "executionInfo": {
     "elapsed": 6,
     "status": "ok",
     "timestamp": 1659534084394,
     "user": {
      "displayName": "Karpagam K",
      "userId": "15140805608201077842"
     },
     "user_tz": -330
    },
    "id": "n22Xakig8C5i"
   },
   "outputs": [],
   "source": [
    "min_max_scaler = preprocessing.MinMaxScaler()\n",
    "X_scale = min_max_scaler.fit_transform(X)"
   ]
  },
  {
   "cell_type": "code",
   "execution_count": 10,
   "metadata": {
    "colab": {
     "base_uri": "https://localhost:8080/"
    },
    "executionInfo": {
     "elapsed": 382,
     "status": "ok",
     "timestamp": 1659534103117,
     "user": {
      "displayName": "Karpagam K",
      "userId": "15140805608201077842"
     },
     "user_tz": -330
    },
    "id": "Pizhn7xi8IPp",
    "outputId": "07434b81-5556-4351-84d6-f2c1cba99218"
   },
   "outputs": [
    {
     "data": {
      "text/plain": [
       "array([[0.0334198 , 0.66666667, 0.5       , ..., 0.5       , 0.        ,\n",
       "        0.3864598 ],\n",
       "       [0.03879502, 0.55555556, 0.875     , ..., 0.33333333, 0.33333333,\n",
       "        0.32440056],\n",
       "       [0.04650728, 0.66666667, 0.5       , ..., 0.33333333, 0.33333333,\n",
       "        0.42877292],\n",
       "       ...,\n",
       "       [0.03618687, 0.66666667, 1.        , ..., 0.58333333, 0.66666667,\n",
       "        0.17771509],\n",
       "       [0.03934189, 0.44444444, 0.625     , ..., 0.25      , 0.        ,\n",
       "        0.16925247],\n",
       "       [0.04037019, 0.44444444, 0.625     , ..., 0.33333333, 0.        ,\n",
       "        0.19464034]])"
      ]
     },
     "execution_count": 10,
     "metadata": {},
     "output_type": "execute_result"
    }
   ],
   "source": [
    "X_scale"
   ]
  },
  {
   "cell_type": "code",
   "execution_count": 11,
   "metadata": {
    "executionInfo": {
     "elapsed": 13,
     "status": "ok",
     "timestamp": 1659534120528,
     "user": {
      "displayName": "Karpagam K",
      "userId": "15140805608201077842"
     },
     "user_tz": -330
    },
    "id": "76j-WojS8Mze"
   },
   "outputs": [],
   "source": [
    "from sklearn.model_selection import train_test_split"
   ]
  },
  {
   "cell_type": "code",
   "execution_count": 12,
   "metadata": {
    "executionInfo": {
     "elapsed": 422,
     "status": "ok",
     "timestamp": 1659534164076,
     "user": {
      "displayName": "Karpagam K",
      "userId": "15140805608201077842"
     },
     "user_tz": -330
    },
    "id": "a-nf7uIk8RH8"
   },
   "outputs": [],
   "source": [
    "X_train, X_val_and_test, Y_train, Y_val_and_test = train_test_split(X_scale, Y, test_size=0.3)"
   ]
  },
  {
   "cell_type": "code",
   "execution_count": 13,
   "metadata": {
    "executionInfo": {
     "elapsed": 397,
     "status": "ok",
     "timestamp": 1659534179977,
     "user": {
      "displayName": "Karpagam K",
      "userId": "15140805608201077842"
     },
     "user_tz": -330
    },
    "id": "p6f13KEH8brE"
   },
   "outputs": [],
   "source": [
    "X_val, X_test, Y_val, Y_test = train_test_split(X_val_and_test, Y_val_and_test, test_size=0.5)"
   ]
  },
  {
   "cell_type": "code",
   "execution_count": 14,
   "metadata": {
    "colab": {
     "base_uri": "https://localhost:8080/"
    },
    "executionInfo": {
     "elapsed": 432,
     "status": "ok",
     "timestamp": 1659534202446,
     "user": {
      "displayName": "Karpagam K",
      "userId": "15140805608201077842"
     },
     "user_tz": -330
    },
    "id": "vUqHG8_08fkL",
    "outputId": "b9ab8cc0-b9a1-41e2-e60e-57bd3041ccbe"
   },
   "outputs": [
    {
     "name": "stdout",
     "output_type": "stream",
     "text": [
      "(1022, 10) (219, 10) (219, 10) (1022,) (219,) (219,)\n"
     ]
    }
   ],
   "source": [
    "print(X_train.shape, X_val.shape, X_test.shape, Y_train.shape, Y_val.shape, Y_test.shape)"
   ]
  },
  {
   "cell_type": "code",
   "execution_count": 15,
   "metadata": {
    "executionInfo": {
     "elapsed": 4837,
     "status": "ok",
     "timestamp": 1659534236442,
     "user": {
      "displayName": "Karpagam K",
      "userId": "15140805608201077842"
     },
     "user_tz": -330
    },
    "id": "qY0Gu05x8lA5"
   },
   "outputs": [],
   "source": [
    "from keras.models import Sequential\n",
    "from keras.layers import Dense"
   ]
  },
  {
   "cell_type": "code",
   "execution_count": 16,
   "metadata": {
    "executionInfo": {
     "elapsed": 406,
     "status": "ok",
     "timestamp": 1659534286178,
     "user": {
      "displayName": "Karpagam K",
      "userId": "15140805608201077842"
     },
     "user_tz": -330
    },
    "id": "Q4ZQaIhX8r4C"
   },
   "outputs": [],
   "source": [
    "model = Sequential([\n",
    "    Dense(32, activation='relu', input_shape=(10,)),\n",
    "    Dense(32, activation='relu'),\n",
    "    Dense(1, activation='sigmoid'),\n",
    "])"
   ]
  },
  {
   "cell_type": "code",
   "execution_count": 17,
   "metadata": {
    "executionInfo": {
     "elapsed": 599,
     "status": "ok",
     "timestamp": 1659534301195,
     "user": {
      "displayName": "Karpagam K",
      "userId": "15140805608201077842"
     },
     "user_tz": -330
    },
    "id": "dFcISoIy85ev"
   },
   "outputs": [],
   "source": [
    "model.compile(optimizer='sgd',\n",
    "              loss='binary_crossentropy',\n",
    "              metrics=['accuracy'])"
   ]
  },
  {
   "cell_type": "code",
   "execution_count": 18,
   "metadata": {
    "colab": {
     "base_uri": "https://localhost:8080/"
    },
    "executionInfo": {
     "elapsed": 22913,
     "status": "ok",
     "timestamp": 1659534336692,
     "user": {
      "displayName": "Karpagam K",
      "userId": "15140805608201077842"
     },
     "user_tz": -330
    },
    "id": "DlB00n1O89GP",
    "outputId": "024ce0c0-cf3f-410a-d49f-babf335b82b6"
   },
   "outputs": [
    {
     "name": "stdout",
     "output_type": "stream",
     "text": [
      "Epoch 1/100\n",
      "32/32 [==============================] - 1s 8ms/step - loss: 0.6729 - accuracy: 0.4990 - val_loss: 0.6579 - val_accuracy: 0.5160\n",
      "Epoch 2/100\n",
      "32/32 [==============================] - 0s 2ms/step - loss: 0.6628 - accuracy: 0.5000 - val_loss: 0.6494 - val_accuracy: 0.5342\n",
      "Epoch 3/100\n",
      "32/32 [==============================] - 0s 2ms/step - loss: 0.6557 - accuracy: 0.5225 - val_loss: 0.6426 - val_accuracy: 0.5662\n",
      "Epoch 4/100\n",
      "32/32 [==============================] - 0s 2ms/step - loss: 0.6497 - accuracy: 0.5939 - val_loss: 0.6361 - val_accuracy: 0.6849\n",
      "Epoch 5/100\n",
      "32/32 [==============================] - 0s 2ms/step - loss: 0.6439 - accuracy: 0.6761 - val_loss: 0.6295 - val_accuracy: 0.7717\n",
      "Epoch 6/100\n",
      "32/32 [==============================] - 0s 2ms/step - loss: 0.6384 - accuracy: 0.7084 - val_loss: 0.6229 - val_accuracy: 0.8082\n",
      "Epoch 7/100\n",
      "32/32 [==============================] - 0s 2ms/step - loss: 0.6323 - accuracy: 0.7446 - val_loss: 0.6159 - val_accuracy: 0.8174\n",
      "Epoch 8/100\n",
      "32/32 [==============================] - 0s 2ms/step - loss: 0.6263 - accuracy: 0.7436 - val_loss: 0.6089 - val_accuracy: 0.8356\n",
      "Epoch 9/100\n",
      "32/32 [==============================] - 0s 2ms/step - loss: 0.6200 - accuracy: 0.7661 - val_loss: 0.6014 - val_accuracy: 0.8447\n",
      "Epoch 10/100\n",
      "32/32 [==============================] - 0s 2ms/step - loss: 0.6136 - accuracy: 0.7701 - val_loss: 0.5938 - val_accuracy: 0.8493\n",
      "Epoch 11/100\n",
      "32/32 [==============================] - 0s 2ms/step - loss: 0.6069 - accuracy: 0.7798 - val_loss: 0.5859 - val_accuracy: 0.8539\n",
      "Epoch 12/100\n",
      "32/32 [==============================] - 0s 2ms/step - loss: 0.6002 - accuracy: 0.7798 - val_loss: 0.5783 - val_accuracy: 0.8813\n",
      "Epoch 13/100\n",
      "32/32 [==============================] - 0s 2ms/step - loss: 0.5933 - accuracy: 0.7935 - val_loss: 0.5701 - val_accuracy: 0.8721\n",
      "Epoch 14/100\n",
      "32/32 [==============================] - 0s 2ms/step - loss: 0.5861 - accuracy: 0.7945 - val_loss: 0.5621 - val_accuracy: 0.8813\n",
      "Epoch 15/100\n",
      "32/32 [==============================] - 0s 2ms/step - loss: 0.5788 - accuracy: 0.8121 - val_loss: 0.5538 - val_accuracy: 0.8813\n",
      "Epoch 16/100\n",
      "32/32 [==============================] - 0s 2ms/step - loss: 0.5713 - accuracy: 0.8141 - val_loss: 0.5455 - val_accuracy: 0.8813\n",
      "Epoch 17/100\n",
      "32/32 [==============================] - 0s 2ms/step - loss: 0.5640 - accuracy: 0.8258 - val_loss: 0.5365 - val_accuracy: 0.8904\n",
      "Epoch 18/100\n",
      "32/32 [==============================] - 0s 2ms/step - loss: 0.5561 - accuracy: 0.8229 - val_loss: 0.5278 - val_accuracy: 0.8950\n",
      "Epoch 19/100\n",
      "32/32 [==============================] - 0s 2ms/step - loss: 0.5483 - accuracy: 0.8229 - val_loss: 0.5193 - val_accuracy: 0.8950\n",
      "Epoch 20/100\n",
      "32/32 [==============================] - 0s 2ms/step - loss: 0.5402 - accuracy: 0.8337 - val_loss: 0.5104 - val_accuracy: 0.8995\n",
      "Epoch 21/100\n",
      "32/32 [==============================] - 0s 2ms/step - loss: 0.5322 - accuracy: 0.8327 - val_loss: 0.5005 - val_accuracy: 0.8995\n",
      "Epoch 22/100\n",
      "32/32 [==============================] - 0s 2ms/step - loss: 0.5237 - accuracy: 0.8405 - val_loss: 0.4922 - val_accuracy: 0.8995\n",
      "Epoch 23/100\n",
      "32/32 [==============================] - 0s 2ms/step - loss: 0.5157 - accuracy: 0.8307 - val_loss: 0.4825 - val_accuracy: 0.9041\n",
      "Epoch 24/100\n",
      "32/32 [==============================] - 0s 2ms/step - loss: 0.5074 - accuracy: 0.8425 - val_loss: 0.4737 - val_accuracy: 0.9041\n",
      "Epoch 25/100\n",
      "32/32 [==============================] - 0s 2ms/step - loss: 0.4993 - accuracy: 0.8415 - val_loss: 0.4644 - val_accuracy: 0.9087\n",
      "Epoch 26/100\n",
      "32/32 [==============================] - 0s 2ms/step - loss: 0.4915 - accuracy: 0.8415 - val_loss: 0.4555 - val_accuracy: 0.9132\n",
      "Epoch 27/100\n",
      "32/32 [==============================] - 0s 2ms/step - loss: 0.4831 - accuracy: 0.8434 - val_loss: 0.4469 - val_accuracy: 0.9132\n",
      "Epoch 28/100\n",
      "32/32 [==============================] - 0s 2ms/step - loss: 0.4749 - accuracy: 0.8444 - val_loss: 0.4380 - val_accuracy: 0.9132\n",
      "Epoch 29/100\n",
      "32/32 [==============================] - 0s 2ms/step - loss: 0.4674 - accuracy: 0.8454 - val_loss: 0.4304 - val_accuracy: 0.9087\n",
      "Epoch 30/100\n",
      "32/32 [==============================] - 0s 3ms/step - loss: 0.4597 - accuracy: 0.8503 - val_loss: 0.4218 - val_accuracy: 0.9132\n",
      "Epoch 31/100\n",
      "32/32 [==============================] - 0s 3ms/step - loss: 0.4523 - accuracy: 0.8493 - val_loss: 0.4154 - val_accuracy: 0.8950\n",
      "Epoch 32/100\n",
      "32/32 [==============================] - 0s 2ms/step - loss: 0.4445 - accuracy: 0.8503 - val_loss: 0.4081 - val_accuracy: 0.8950\n",
      "Epoch 33/100\n",
      "32/32 [==============================] - 0s 3ms/step - loss: 0.4378 - accuracy: 0.8532 - val_loss: 0.3994 - val_accuracy: 0.8995\n",
      "Epoch 34/100\n",
      "32/32 [==============================] - 0s 2ms/step - loss: 0.4307 - accuracy: 0.8513 - val_loss: 0.3920 - val_accuracy: 0.9041\n",
      "Epoch 35/100\n",
      "32/32 [==============================] - 0s 3ms/step - loss: 0.4238 - accuracy: 0.8523 - val_loss: 0.3840 - val_accuracy: 0.9132\n",
      "Epoch 36/100\n",
      "32/32 [==============================] - 0s 3ms/step - loss: 0.4178 - accuracy: 0.8503 - val_loss: 0.3781 - val_accuracy: 0.9087\n",
      "Epoch 37/100\n",
      "32/32 [==============================] - 0s 3ms/step - loss: 0.4109 - accuracy: 0.8581 - val_loss: 0.3714 - val_accuracy: 0.9087\n",
      "Epoch 38/100\n",
      "32/32 [==============================] - 0s 3ms/step - loss: 0.4050 - accuracy: 0.8611 - val_loss: 0.3658 - val_accuracy: 0.9087\n",
      "Epoch 39/100\n",
      "32/32 [==============================] - 0s 3ms/step - loss: 0.3993 - accuracy: 0.8611 - val_loss: 0.3613 - val_accuracy: 0.8995\n",
      "Epoch 40/100\n",
      "32/32 [==============================] - 0s 2ms/step - loss: 0.3936 - accuracy: 0.8630 - val_loss: 0.3540 - val_accuracy: 0.9087\n",
      "Epoch 41/100\n",
      "32/32 [==============================] - 0s 2ms/step - loss: 0.3884 - accuracy: 0.8581 - val_loss: 0.3499 - val_accuracy: 0.9041\n",
      "Epoch 42/100\n",
      "32/32 [==============================] - 0s 2ms/step - loss: 0.3833 - accuracy: 0.8611 - val_loss: 0.3439 - val_accuracy: 0.9087\n",
      "Epoch 43/100\n",
      "32/32 [==============================] - 0s 2ms/step - loss: 0.3781 - accuracy: 0.8650 - val_loss: 0.3404 - val_accuracy: 0.9041\n",
      "Epoch 44/100\n",
      "32/32 [==============================] - 0s 2ms/step - loss: 0.3738 - accuracy: 0.8620 - val_loss: 0.3364 - val_accuracy: 0.8995\n",
      "Epoch 45/100\n",
      "32/32 [==============================] - 0s 2ms/step - loss: 0.3684 - accuracy: 0.8620 - val_loss: 0.3344 - val_accuracy: 0.8950\n",
      "Epoch 46/100\n",
      "32/32 [==============================] - 0s 2ms/step - loss: 0.3648 - accuracy: 0.8650 - val_loss: 0.3287 - val_accuracy: 0.8995\n",
      "Epoch 47/100\n",
      "32/32 [==============================] - 0s 2ms/step - loss: 0.3603 - accuracy: 0.8630 - val_loss: 0.3261 - val_accuracy: 0.8995\n",
      "Epoch 48/100\n",
      "32/32 [==============================] - 0s 2ms/step - loss: 0.3566 - accuracy: 0.8630 - val_loss: 0.3223 - val_accuracy: 0.9041\n",
      "Epoch 49/100\n",
      "32/32 [==============================] - 0s 2ms/step - loss: 0.3524 - accuracy: 0.8640 - val_loss: 0.3159 - val_accuracy: 0.8995\n",
      "Epoch 50/100\n",
      "32/32 [==============================] - 0s 2ms/step - loss: 0.3490 - accuracy: 0.8659 - val_loss: 0.3149 - val_accuracy: 0.9041\n",
      "Epoch 51/100\n",
      "32/32 [==============================] - 0s 2ms/step - loss: 0.3459 - accuracy: 0.8679 - val_loss: 0.3113 - val_accuracy: 0.9041\n",
      "Epoch 52/100\n",
      "32/32 [==============================] - 0s 2ms/step - loss: 0.3423 - accuracy: 0.8708 - val_loss: 0.3073 - val_accuracy: 0.8995\n",
      "Epoch 53/100\n",
      "32/32 [==============================] - 0s 2ms/step - loss: 0.3395 - accuracy: 0.8689 - val_loss: 0.3046 - val_accuracy: 0.9041\n",
      "Epoch 54/100\n",
      "32/32 [==============================] - 0s 2ms/step - loss: 0.3366 - accuracy: 0.8659 - val_loss: 0.3029 - val_accuracy: 0.9041\n",
      "Epoch 55/100\n",
      "32/32 [==============================] - 0s 2ms/step - loss: 0.3334 - accuracy: 0.8679 - val_loss: 0.3017 - val_accuracy: 0.9132\n",
      "Epoch 56/100\n",
      "32/32 [==============================] - 0s 2ms/step - loss: 0.3307 - accuracy: 0.8679 - val_loss: 0.2982 - val_accuracy: 0.9087\n",
      "Epoch 57/100\n",
      "32/32 [==============================] - 0s 2ms/step - loss: 0.3281 - accuracy: 0.8679 - val_loss: 0.2954 - val_accuracy: 0.8995\n",
      "Epoch 58/100\n",
      "32/32 [==============================] - 0s 2ms/step - loss: 0.3258 - accuracy: 0.8699 - val_loss: 0.2952 - val_accuracy: 0.9132\n"
     ]
    },
    {
     "name": "stdout",
     "output_type": "stream",
     "text": [
      "Epoch 59/100\n",
      "32/32 [==============================] - 0s 2ms/step - loss: 0.3234 - accuracy: 0.8708 - val_loss: 0.2941 - val_accuracy: 0.9087\n",
      "Epoch 60/100\n",
      "32/32 [==============================] - 0s 2ms/step - loss: 0.3218 - accuracy: 0.8679 - val_loss: 0.2912 - val_accuracy: 0.9132\n",
      "Epoch 61/100\n",
      "32/32 [==============================] - 0s 2ms/step - loss: 0.3194 - accuracy: 0.8679 - val_loss: 0.2917 - val_accuracy: 0.9087\n",
      "Epoch 62/100\n",
      "32/32 [==============================] - 0s 2ms/step - loss: 0.3172 - accuracy: 0.8708 - val_loss: 0.2890 - val_accuracy: 0.9087\n",
      "Epoch 63/100\n",
      "32/32 [==============================] - 0s 2ms/step - loss: 0.3155 - accuracy: 0.8699 - val_loss: 0.2860 - val_accuracy: 0.9087\n",
      "Epoch 64/100\n",
      "32/32 [==============================] - 0s 2ms/step - loss: 0.3139 - accuracy: 0.8708 - val_loss: 0.2844 - val_accuracy: 0.9087\n",
      "Epoch 65/100\n",
      "32/32 [==============================] - 0s 2ms/step - loss: 0.3119 - accuracy: 0.8787 - val_loss: 0.2836 - val_accuracy: 0.9041\n",
      "Epoch 66/100\n",
      "32/32 [==============================] - 0s 2ms/step - loss: 0.3102 - accuracy: 0.8728 - val_loss: 0.2850 - val_accuracy: 0.9132\n",
      "Epoch 67/100\n",
      "32/32 [==============================] - 0s 2ms/step - loss: 0.3082 - accuracy: 0.8757 - val_loss: 0.2814 - val_accuracy: 0.9041\n",
      "Epoch 68/100\n",
      "32/32 [==============================] - 0s 2ms/step - loss: 0.3068 - accuracy: 0.8748 - val_loss: 0.2816 - val_accuracy: 0.9041\n",
      "Epoch 69/100\n",
      "32/32 [==============================] - 0s 2ms/step - loss: 0.3050 - accuracy: 0.8738 - val_loss: 0.2828 - val_accuracy: 0.9178\n",
      "Epoch 70/100\n",
      "32/32 [==============================] - 0s 2ms/step - loss: 0.3031 - accuracy: 0.8777 - val_loss: 0.2769 - val_accuracy: 0.9087\n",
      "Epoch 71/100\n",
      "32/32 [==============================] - 0s 2ms/step - loss: 0.3021 - accuracy: 0.8767 - val_loss: 0.2820 - val_accuracy: 0.9224\n",
      "Epoch 72/100\n",
      "32/32 [==============================] - 0s 2ms/step - loss: 0.3010 - accuracy: 0.8777 - val_loss: 0.2765 - val_accuracy: 0.9041\n",
      "Epoch 73/100\n",
      "32/32 [==============================] - 0s 2ms/step - loss: 0.2995 - accuracy: 0.8796 - val_loss: 0.2746 - val_accuracy: 0.9087\n",
      "Epoch 74/100\n",
      "32/32 [==============================] - 0s 2ms/step - loss: 0.2991 - accuracy: 0.8757 - val_loss: 0.2753 - val_accuracy: 0.9087\n",
      "Epoch 75/100\n",
      "32/32 [==============================] - 0s 2ms/step - loss: 0.2970 - accuracy: 0.8748 - val_loss: 0.2807 - val_accuracy: 0.9224\n",
      "Epoch 76/100\n",
      "32/32 [==============================] - 0s 2ms/step - loss: 0.2959 - accuracy: 0.8806 - val_loss: 0.2729 - val_accuracy: 0.9087\n",
      "Epoch 77/100\n",
      "32/32 [==============================] - 0s 2ms/step - loss: 0.2950 - accuracy: 0.8728 - val_loss: 0.2766 - val_accuracy: 0.9132\n",
      "Epoch 78/100\n",
      "32/32 [==============================] - 0s 2ms/step - loss: 0.2941 - accuracy: 0.8787 - val_loss: 0.2768 - val_accuracy: 0.9178\n",
      "Epoch 79/100\n",
      "32/32 [==============================] - 0s 2ms/step - loss: 0.2925 - accuracy: 0.8767 - val_loss: 0.2739 - val_accuracy: 0.9132\n",
      "Epoch 80/100\n",
      "32/32 [==============================] - 0s 2ms/step - loss: 0.2916 - accuracy: 0.8806 - val_loss: 0.2729 - val_accuracy: 0.9132\n",
      "Epoch 81/100\n",
      "32/32 [==============================] - 0s 2ms/step - loss: 0.2909 - accuracy: 0.8836 - val_loss: 0.2707 - val_accuracy: 0.9087\n",
      "Epoch 82/100\n",
      "32/32 [==============================] - 0s 2ms/step - loss: 0.2899 - accuracy: 0.8796 - val_loss: 0.2745 - val_accuracy: 0.9132\n",
      "Epoch 83/100\n",
      "32/32 [==============================] - 0s 2ms/step - loss: 0.2898 - accuracy: 0.8796 - val_loss: 0.2710 - val_accuracy: 0.9132\n",
      "Epoch 84/100\n",
      "32/32 [==============================] - 0s 2ms/step - loss: 0.2874 - accuracy: 0.8777 - val_loss: 0.2683 - val_accuracy: 0.9132\n",
      "Epoch 85/100\n",
      "32/32 [==============================] - 0s 2ms/step - loss: 0.2877 - accuracy: 0.8796 - val_loss: 0.2710 - val_accuracy: 0.9132\n",
      "Epoch 86/100\n",
      "32/32 [==============================] - 0s 2ms/step - loss: 0.2871 - accuracy: 0.8836 - val_loss: 0.2700 - val_accuracy: 0.9132\n",
      "Epoch 87/100\n",
      "32/32 [==============================] - 0s 2ms/step - loss: 0.2857 - accuracy: 0.8816 - val_loss: 0.2705 - val_accuracy: 0.9087\n",
      "Epoch 88/100\n",
      "32/32 [==============================] - 0s 2ms/step - loss: 0.2851 - accuracy: 0.8816 - val_loss: 0.2682 - val_accuracy: 0.9178\n",
      "Epoch 89/100\n",
      "32/32 [==============================] - 0s 2ms/step - loss: 0.2839 - accuracy: 0.8816 - val_loss: 0.2677 - val_accuracy: 0.9178\n",
      "Epoch 90/100\n",
      "32/32 [==============================] - 0s 2ms/step - loss: 0.2832 - accuracy: 0.8845 - val_loss: 0.2694 - val_accuracy: 0.9087\n",
      "Epoch 91/100\n",
      "32/32 [==============================] - 0s 2ms/step - loss: 0.2824 - accuracy: 0.8865 - val_loss: 0.2657 - val_accuracy: 0.9132\n",
      "Epoch 92/100\n",
      "32/32 [==============================] - 0s 2ms/step - loss: 0.2827 - accuracy: 0.8826 - val_loss: 0.2687 - val_accuracy: 0.9087\n",
      "Epoch 93/100\n",
      "32/32 [==============================] - 0s 2ms/step - loss: 0.2808 - accuracy: 0.8865 - val_loss: 0.2668 - val_accuracy: 0.9178\n",
      "Epoch 94/100\n",
      "32/32 [==============================] - 0s 2ms/step - loss: 0.2799 - accuracy: 0.8855 - val_loss: 0.2646 - val_accuracy: 0.9132\n",
      "Epoch 95/100\n",
      "32/32 [==============================] - 0s 2ms/step - loss: 0.2793 - accuracy: 0.8845 - val_loss: 0.2651 - val_accuracy: 0.9132\n",
      "Epoch 96/100\n",
      "32/32 [==============================] - 0s 2ms/step - loss: 0.2784 - accuracy: 0.8836 - val_loss: 0.2661 - val_accuracy: 0.9132\n",
      "Epoch 97/100\n",
      "32/32 [==============================] - 0s 2ms/step - loss: 0.2780 - accuracy: 0.8875 - val_loss: 0.2720 - val_accuracy: 0.9132\n",
      "Epoch 98/100\n",
      "32/32 [==============================] - 0s 2ms/step - loss: 0.2774 - accuracy: 0.8855 - val_loss: 0.2641 - val_accuracy: 0.9132\n",
      "Epoch 99/100\n",
      "32/32 [==============================] - 0s 2ms/step - loss: 0.2767 - accuracy: 0.8865 - val_loss: 0.2637 - val_accuracy: 0.9132\n",
      "Epoch 100/100\n",
      "32/32 [==============================] - 0s 2ms/step - loss: 0.2762 - accuracy: 0.8875 - val_loss: 0.2656 - val_accuracy: 0.9132\n"
     ]
    }
   ],
   "source": [
    "hist = model.fit(X_train, Y_train,\n",
    "          batch_size=32, epochs=100,\n",
    "          validation_data=(X_val, Y_val))"
   ]
  },
  {
   "cell_type": "code",
   "execution_count": 19,
   "metadata": {
    "colab": {
     "base_uri": "https://localhost:8080/"
    },
    "executionInfo": {
     "elapsed": 410,
     "status": "ok",
     "timestamp": 1659534802666,
     "user": {
      "displayName": "Karpagam K",
      "userId": "15140805608201077842"
     },
     "user_tz": -330
    },
    "id": "bzm4zd-D9AU0",
    "outputId": "bd72b42f-e874-4767-fce2-26ce7e50c5d0"
   },
   "outputs": [
    {
     "name": "stdout",
     "output_type": "stream",
     "text": [
      "7/7 [==============================] - 0s 997us/step - loss: 0.2607 - accuracy: 0.8950\n"
     ]
    },
    {
     "data": {
      "text/plain": [
       "0.8949771523475647"
      ]
     },
     "execution_count": 19,
     "metadata": {},
     "output_type": "execute_result"
    }
   ],
   "source": [
    "model.evaluate(X_test, Y_test)[1]"
   ]
  },
  {
   "cell_type": "code",
   "execution_count": 20,
   "metadata": {
    "executionInfo": {
     "elapsed": 413,
     "status": "ok",
     "timestamp": 1659534816023,
     "user": {
      "displayName": "Karpagam K",
      "userId": "15140805608201077842"
     },
     "user_tz": -330
    },
    "id": "k2F5bfKx-3kB"
   },
   "outputs": [],
   "source": [
    "import matplotlib.pyplot as plt"
   ]
  },
  {
   "cell_type": "code",
   "execution_count": 21,
   "metadata": {
    "colab": {
     "base_uri": "https://localhost:8080/",
     "height": 295
    },
    "executionInfo": {
     "elapsed": 922,
     "status": "ok",
     "timestamp": 1659534831946,
     "user": {
      "displayName": "Karpagam K",
      "userId": "15140805608201077842"
     },
     "user_tz": -330
    },
    "id": "eA0-ddco-613",
    "outputId": "2fbc68d1-12a4-4b83-b068-7b10ed3a1f2e"
   },
   "outputs": [
    {
     "data": {
      "image/png": "[encoded data removed]",
      "text/plain": [
       "<Figure size 432x288 with 1 Axes>"
      ]
     },
     "metadata": {
      "needs_background": "light"
     },
     "output_type": "display_data"
    }
   ],
   "source": [
    "plt.plot(hist.history['loss'])\n",
    "plt.plot(hist.history['val_loss'])\n",
    "plt.title('Model loss')\n",
    "plt.ylabel('Loss')\n",
    "plt.xlabel('Epoch')\n",
    "plt.legend(['Train', 'Val'], loc='upper right')\n",
    "plt.show()"
   ]
  },
  {
   "cell_type": "code",
   "execution_count": 22,
   "metadata": {
    "colab": {
     "base_uri": "https://localhost:8080/",
     "height": 295
    },
    "executionInfo": {
     "elapsed": 835,
     "status": "ok",
     "timestamp": 1659534869316,
     "user": {
      "displayName": "Karpagam K",
      "userId": "15140805608201077842"
     },
     "user_tz": -330
    },
    "id": "i280zMOP--mO",
    "outputId": "88152a28-5ec1-4530-b019-8e5a640781ec"
   },
   "outputs": [
    {
     "data": {
      "image/png": "[encoded data removed]",
      "text/plain": [
       "<Figure size 432x288 with 1 Axes>"
      ]
     },
     "metadata": {
      "needs_background": "light"
     },
     "output_type": "display_data"
    }
   ],
   "source": [
    "plt.plot(hist.history['accuracy'])\n",
    "plt.plot(hist.history['val_accuracy'])\n",
    "plt.title('Model accuracy')\n",
    "plt.ylabel('Accuracy')\n",
    "plt.xlabel('Epoch')\n",
    "plt.legend(['Train', 'Val'], loc='lower right')\n",
    "plt.show()"
   ]
  },
  {
   "cell_type": "code",
   "execution_count": 23,
   "metadata": {
    "colab": {
     "base_uri": "https://localhost:8080/"
    },
    "executionInfo": {
     "elapsed": 204332,
     "status": "ok",
     "timestamp": 1659535091718,
     "user": {
      "displayName": "Karpagam K",
      "userId": "15140805608201077842"
     },
     "user_tz": -330
    },
    "id": "s5ScmL4p_Hvj",
    "outputId": "2073ee3e-effb-4010-eb7e-ce9b67b32020"
   },
   "outputs": [
    {
     "name": "stdout",
     "output_type": "stream",
     "text": [
      "Epoch 1/100\n",
      "32/32 [==============================] - 1s 31ms/step - loss: 0.4752 - accuracy: 0.7583 - val_loss: 0.3210 - val_accuracy: 0.8676\n",
      "Epoch 2/100\n",
      "32/32 [==============================] - 1s 27ms/step - loss: 0.3526 - accuracy: 0.8425 - val_loss: 0.3280 - val_accuracy: 0.8950\n",
      "Epoch 3/100\n",
      "32/32 [==============================] - 1s 27ms/step - loss: 0.3286 - accuracy: 0.8552 - val_loss: 0.2998 - val_accuracy: 0.9087\n",
      "Epoch 4/100\n",
      "32/32 [==============================] - 1s 27ms/step - loss: 0.2946 - accuracy: 0.8699 - val_loss: 0.2681 - val_accuracy: 0.9041\n",
      "Epoch 5/100\n",
      "32/32 [==============================] - 1s 29ms/step - loss: 0.2648 - accuracy: 0.8806 - val_loss: 0.3007 - val_accuracy: 0.9041\n",
      "Epoch 6/100\n",
      "32/32 [==============================] - 1s 27ms/step - loss: 0.2734 - accuracy: 0.8826 - val_loss: 0.3727 - val_accuracy: 0.8950\n",
      "Epoch 7/100\n",
      "32/32 [==============================] - 1s 27ms/step - loss: 0.2594 - accuracy: 0.8914 - val_loss: 0.2615 - val_accuracy: 0.9178\n",
      "Epoch 8/100\n",
      "32/32 [==============================] - 1s 26ms/step - loss: 0.2391 - accuracy: 0.9031 - val_loss: 0.2847 - val_accuracy: 0.9178\n",
      "Epoch 9/100\n",
      "32/32 [==============================] - 1s 29ms/step - loss: 0.2493 - accuracy: 0.8933 - val_loss: 0.2817 - val_accuracy: 0.9178\n",
      "Epoch 10/100\n",
      "32/32 [==============================] - 1s 30ms/step - loss: 0.2365 - accuracy: 0.8885 - val_loss: 0.3225 - val_accuracy: 0.9224\n",
      "Epoch 11/100\n",
      "32/32 [==============================] - 1s 30ms/step - loss: 0.2372 - accuracy: 0.8933 - val_loss: 0.3420 - val_accuracy: 0.9041\n",
      "Epoch 12/100\n",
      "32/32 [==============================] - 1s 28ms/step - loss: 0.2332 - accuracy: 0.8992 - val_loss: 0.3011 - val_accuracy: 0.9178\n",
      "Epoch 13/100\n",
      "32/32 [==============================] - 1s 29ms/step - loss: 0.2233 - accuracy: 0.8963 - val_loss: 0.3662 - val_accuracy: 0.9041\n",
      "Epoch 14/100\n",
      "32/32 [==============================] - 1s 29ms/step - loss: 0.2313 - accuracy: 0.9031 - val_loss: 0.3133 - val_accuracy: 0.9132\n",
      "Epoch 15/100\n",
      "32/32 [==============================] - 1s 29ms/step - loss: 0.2573 - accuracy: 0.9002 - val_loss: 0.2788 - val_accuracy: 0.9087\n",
      "Epoch 16/100\n",
      "32/32 [==============================] - 1s 30ms/step - loss: 0.2249 - accuracy: 0.9022 - val_loss: 0.3021 - val_accuracy: 0.9087\n",
      "Epoch 17/100\n",
      "32/32 [==============================] - 1s 30ms/step - loss: 0.2247 - accuracy: 0.9031 - val_loss: 0.3367 - val_accuracy: 0.9041\n",
      "Epoch 18/100\n",
      "32/32 [==============================] - 1s 37ms/step - loss: 0.2284 - accuracy: 0.9022 - val_loss: 0.3241 - val_accuracy: 0.9132\n",
      "Epoch 19/100\n",
      "32/32 [==============================] - 1s 27ms/step - loss: 0.2220 - accuracy: 0.9012 - val_loss: 0.3059 - val_accuracy: 0.9224\n",
      "Epoch 20/100\n",
      "32/32 [==============================] - 1s 26ms/step - loss: 0.2144 - accuracy: 0.8963 - val_loss: 0.3283 - val_accuracy: 0.9132\n",
      "Epoch 21/100\n",
      "32/32 [==============================] - 1s 28ms/step - loss: 0.2061 - accuracy: 0.9159 - val_loss: 0.3319 - val_accuracy: 0.9178\n",
      "Epoch 22/100\n",
      "32/32 [==============================] - 1s 28ms/step - loss: 0.1995 - accuracy: 0.9207 - val_loss: 0.4090 - val_accuracy: 0.9041\n",
      "Epoch 23/100\n",
      "32/32 [==============================] - 1s 26ms/step - loss: 0.2083 - accuracy: 0.9188 - val_loss: 0.3517 - val_accuracy: 0.9178\n",
      "Epoch 24/100\n",
      "32/32 [==============================] - 1s 31ms/step - loss: 0.2104 - accuracy: 0.9070 - val_loss: 0.3289 - val_accuracy: 0.9132\n",
      "Epoch 25/100\n",
      "32/32 [==============================] - 1s 35ms/step - loss: 0.1972 - accuracy: 0.9188 - val_loss: 0.3826 - val_accuracy: 0.9041\n",
      "Epoch 26/100\n",
      "32/32 [==============================] - 1s 30ms/step - loss: 0.2024 - accuracy: 0.9168 - val_loss: 0.3540 - val_accuracy: 0.9041\n",
      "Epoch 27/100\n",
      "32/32 [==============================] - 1s 28ms/step - loss: 0.2004 - accuracy: 0.9090 - val_loss: 0.3462 - val_accuracy: 0.9087\n",
      "Epoch 28/100\n",
      "32/32 [==============================] - 1s 29ms/step - loss: 0.1915 - accuracy: 0.9168 - val_loss: 0.3773 - val_accuracy: 0.9132\n",
      "Epoch 29/100\n",
      "32/32 [==============================] - 1s 29ms/step - loss: 0.1973 - accuracy: 0.9198 - val_loss: 0.3835 - val_accuracy: 0.8995\n",
      "Epoch 30/100\n",
      "32/32 [==============================] - 1s 37ms/step - loss: 0.1878 - accuracy: 0.9276 - val_loss: 0.3859 - val_accuracy: 0.9132\n",
      "Epoch 31/100\n",
      "32/32 [==============================] - 1s 37ms/step - loss: 0.2257 - accuracy: 0.9022 - val_loss: 0.3429 - val_accuracy: 0.9132\n",
      "Epoch 32/100\n",
      "32/32 [==============================] - 1s 32ms/step - loss: 0.2016 - accuracy: 0.9149 - val_loss: 0.3769 - val_accuracy: 0.9087\n",
      "Epoch 33/100\n",
      "32/32 [==============================] - 1s 35ms/step - loss: 0.1842 - accuracy: 0.9149 - val_loss: 0.4233 - val_accuracy: 0.9178\n",
      "Epoch 34/100\n",
      "32/32 [==============================] - 1s 40ms/step - loss: 0.1926 - accuracy: 0.9119 - val_loss: 0.3862 - val_accuracy: 0.9178\n",
      "Epoch 35/100\n",
      "32/32 [==============================] - 1s 34ms/step - loss: 0.1979 - accuracy: 0.9129 - val_loss: 0.3702 - val_accuracy: 0.9132\n",
      "Epoch 36/100\n",
      "32/32 [==============================] - 1s 35ms/step - loss: 0.1922 - accuracy: 0.9227 - val_loss: 0.3933 - val_accuracy: 0.9087\n",
      "Epoch 37/100\n",
      "32/32 [==============================] - 1s 29ms/step - loss: 0.1722 - accuracy: 0.9256 - val_loss: 0.4237 - val_accuracy: 0.8950\n",
      "Epoch 38/100\n",
      "32/32 [==============================] - 1s 25ms/step - loss: 0.2082 - accuracy: 0.9198 - val_loss: 0.3785 - val_accuracy: 0.9132\n",
      "Epoch 39/100\n",
      "32/32 [==============================] - 1s 24ms/step - loss: 0.2052 - accuracy: 0.9247 - val_loss: 0.3567 - val_accuracy: 0.9132\n",
      "Epoch 40/100\n",
      "32/32 [==============================] - 1s 25ms/step - loss: 0.1889 - accuracy: 0.9139 - val_loss: 0.3790 - val_accuracy: 0.9132\n",
      "Epoch 41/100\n",
      "32/32 [==============================] - 1s 25ms/step - loss: 0.1797 - accuracy: 0.9247 - val_loss: 0.3801 - val_accuracy: 0.9041\n",
      "Epoch 42/100\n",
      "32/32 [==============================] - 1s 27ms/step - loss: 0.1904 - accuracy: 0.9217 - val_loss: 0.3722 - val_accuracy: 0.8995\n",
      "Epoch 43/100\n",
      "32/32 [==============================] - 1s 26ms/step - loss: 0.2047 - accuracy: 0.9100 - val_loss: 0.3712 - val_accuracy: 0.9041\n",
      "Epoch 44/100\n",
      "32/32 [==============================] - 1s 28ms/step - loss: 0.1843 - accuracy: 0.9168 - val_loss: 0.3855 - val_accuracy: 0.9087\n",
      "Epoch 45/100\n",
      "32/32 [==============================] - 1s 28ms/step - loss: 0.1671 - accuracy: 0.9364 - val_loss: 0.4320 - val_accuracy: 0.9087\n",
      "Epoch 46/100\n",
      "32/32 [==============================] - 1s 32ms/step - loss: 0.1578 - accuracy: 0.9266 - val_loss: 0.3879 - val_accuracy: 0.9132\n",
      "Epoch 47/100\n",
      "32/32 [==============================] - 1s 34ms/step - loss: 0.1669 - accuracy: 0.9295 - val_loss: 0.4059 - val_accuracy: 0.9132\n",
      "Epoch 48/100\n",
      "32/32 [==============================] - 1s 29ms/step - loss: 0.1787 - accuracy: 0.9198 - val_loss: 0.4038 - val_accuracy: 0.9269\n",
      "Epoch 49/100\n",
      "32/32 [==============================] - 1s 29ms/step - loss: 0.1737 - accuracy: 0.9266 - val_loss: 0.3347 - val_accuracy: 0.9178\n",
      "Epoch 50/100\n",
      "32/32 [==============================] - 1s 28ms/step - loss: 0.1706 - accuracy: 0.9276 - val_loss: 0.3856 - val_accuracy: 0.9087\n",
      "Epoch 51/100\n",
      "32/32 [==============================] - 1s 29ms/step - loss: 0.1716 - accuracy: 0.9276 - val_loss: 0.4288 - val_accuracy: 0.9041\n",
      "Epoch 52/100\n",
      "32/32 [==============================] - 1s 33ms/step - loss: 0.2227 - accuracy: 0.9031 - val_loss: 0.3283 - val_accuracy: 0.9041\n",
      "Epoch 53/100\n",
      "32/32 [==============================] - 1s 28ms/step - loss: 0.1800 - accuracy: 0.9276 - val_loss: 0.4202 - val_accuracy: 0.8995\n",
      "Epoch 54/100\n",
      "32/32 [==============================] - 1s 30ms/step - loss: 0.1774 - accuracy: 0.9266 - val_loss: 0.3876 - val_accuracy: 0.9132\n",
      "Epoch 55/100\n",
      "32/32 [==============================] - 1s 39ms/step - loss: 0.1723 - accuracy: 0.9237 - val_loss: 0.4705 - val_accuracy: 0.8950\n",
      "Epoch 56/100\n",
      "32/32 [==============================] - 1s 27ms/step - loss: 0.1636 - accuracy: 0.9364 - val_loss: 0.4670 - val_accuracy: 0.9132\n",
      "Epoch 57/100\n",
      "32/32 [==============================] - 1s 26ms/step - loss: 0.1560 - accuracy: 0.9276 - val_loss: 0.4674 - val_accuracy: 0.9041\n",
      "Epoch 58/100\n"
     ]
    },
    {
     "name": "stdout",
     "output_type": "stream",
     "text": [
      "32/32 [==============================] - 1s 27ms/step - loss: 0.1611 - accuracy: 0.9247 - val_loss: 0.4693 - val_accuracy: 0.9041\n",
      "Epoch 59/100\n",
      "32/32 [==============================] - 1s 26ms/step - loss: 0.1483 - accuracy: 0.9354 - val_loss: 0.4978 - val_accuracy: 0.9087\n",
      "Epoch 60/100\n",
      "32/32 [==============================] - 1s 28ms/step - loss: 0.1507 - accuracy: 0.9325 - val_loss: 0.4762 - val_accuracy: 0.9178\n",
      "Epoch 61/100\n",
      "32/32 [==============================] - 1s 27ms/step - loss: 0.1565 - accuracy: 0.9354 - val_loss: 0.4377 - val_accuracy: 0.9132\n",
      "Epoch 62/100\n",
      "32/32 [==============================] - 1s 33ms/step - loss: 0.1513 - accuracy: 0.9344 - val_loss: 0.5004 - val_accuracy: 0.9041\n",
      "Epoch 63/100\n",
      "32/32 [==============================] - 1s 41ms/step - loss: 0.1631 - accuracy: 0.9247 - val_loss: 0.4706 - val_accuracy: 0.9132\n",
      "Epoch 64/100\n",
      "32/32 [==============================] - 1s 32ms/step - loss: 0.1554 - accuracy: 0.9384 - val_loss: 0.5003 - val_accuracy: 0.9087\n",
      "Epoch 65/100\n",
      "32/32 [==============================] - 1s 30ms/step - loss: 0.1969 - accuracy: 0.9178 - val_loss: 0.4149 - val_accuracy: 0.9087\n",
      "Epoch 66/100\n",
      "32/32 [==============================] - 1s 33ms/step - loss: 0.1647 - accuracy: 0.9178 - val_loss: 0.4135 - val_accuracy: 0.9087\n",
      "Epoch 67/100\n",
      "32/32 [==============================] - 1s 38ms/step - loss: 0.1432 - accuracy: 0.9374 - val_loss: 0.5668 - val_accuracy: 0.8813\n",
      "Epoch 68/100\n",
      "32/32 [==============================] - 1s 31ms/step - loss: 0.1342 - accuracy: 0.9384 - val_loss: 0.5192 - val_accuracy: 0.9087\n",
      "Epoch 69/100\n",
      "32/32 [==============================] - 1s 28ms/step - loss: 0.1249 - accuracy: 0.9491 - val_loss: 0.5307 - val_accuracy: 0.9041\n",
      "Epoch 70/100\n",
      "32/32 [==============================] - 1s 25ms/step - loss: 0.1674 - accuracy: 0.9315 - val_loss: 0.4174 - val_accuracy: 0.8995\n",
      "Epoch 71/100\n",
      "32/32 [==============================] - 1s 25ms/step - loss: 0.1503 - accuracy: 0.9384 - val_loss: 0.6181 - val_accuracy: 0.8950\n",
      "Epoch 72/100\n",
      "32/32 [==============================] - 1s 25ms/step - loss: 0.1668 - accuracy: 0.9295 - val_loss: 0.4038 - val_accuracy: 0.9087\n",
      "Epoch 73/100\n",
      "32/32 [==============================] - 1s 26ms/step - loss: 0.1675 - accuracy: 0.9344 - val_loss: 0.4083 - val_accuracy: 0.9224\n",
      "Epoch 74/100\n",
      "32/32 [==============================] - 1s 26ms/step - loss: 0.1554 - accuracy: 0.9403 - val_loss: 0.4762 - val_accuracy: 0.9087\n",
      "Epoch 75/100\n",
      "32/32 [==============================] - 1s 24ms/step - loss: 0.1339 - accuracy: 0.9423 - val_loss: 0.5149 - val_accuracy: 0.9132\n",
      "Epoch 76/100\n",
      "32/32 [==============================] - 1s 25ms/step - loss: 0.1761 - accuracy: 0.9247 - val_loss: 0.4064 - val_accuracy: 0.9224\n",
      "Epoch 77/100\n",
      "32/32 [==============================] - 1s 26ms/step - loss: 0.1400 - accuracy: 0.9452 - val_loss: 0.5076 - val_accuracy: 0.9041\n",
      "Epoch 78/100\n",
      "32/32 [==============================] - 1s 26ms/step - loss: 0.1467 - accuracy: 0.9442 - val_loss: 0.5386 - val_accuracy: 0.9041\n",
      "Epoch 79/100\n",
      "32/32 [==============================] - 1s 27ms/step - loss: 0.1449 - accuracy: 0.9354 - val_loss: 0.4746 - val_accuracy: 0.9087\n",
      "Epoch 80/100\n",
      "32/32 [==============================] - 1s 27ms/step - loss: 0.1475 - accuracy: 0.9393 - val_loss: 0.4801 - val_accuracy: 0.8995\n",
      "Epoch 81/100\n",
      "32/32 [==============================] - 1s 26ms/step - loss: 0.1270 - accuracy: 0.9511 - val_loss: 0.6032 - val_accuracy: 0.8995\n",
      "Epoch 82/100\n",
      "32/32 [==============================] - 1s 26ms/step - loss: 0.1267 - accuracy: 0.9462 - val_loss: 0.5229 - val_accuracy: 0.9087\n",
      "Epoch 83/100\n",
      "32/32 [==============================] - 1s 26ms/step - loss: 0.1474 - accuracy: 0.9325 - val_loss: 0.6096 - val_accuracy: 0.9224\n",
      "Epoch 84/100\n",
      "32/32 [==============================] - 1s 26ms/step - loss: 0.1184 - accuracy: 0.9481 - val_loss: 0.6487 - val_accuracy: 0.9178\n",
      "Epoch 85/100\n",
      "32/32 [==============================] - 1s 35ms/step - loss: 0.1575 - accuracy: 0.9295 - val_loss: 0.5773 - val_accuracy: 0.9132\n",
      "Epoch 86/100\n",
      "32/32 [==============================] - 1s 37ms/step - loss: 0.1345 - accuracy: 0.9423 - val_loss: 0.6058 - val_accuracy: 0.9224\n",
      "Epoch 87/100\n",
      "32/32 [==============================] - 1s 36ms/step - loss: 0.1249 - accuracy: 0.9442 - val_loss: 0.7077 - val_accuracy: 0.9041\n",
      "Epoch 88/100\n",
      "32/32 [==============================] - 1s 36ms/step - loss: 0.1222 - accuracy: 0.9501 - val_loss: 0.6777 - val_accuracy: 0.8904\n",
      "Epoch 89/100\n",
      "32/32 [==============================] - 1s 32ms/step - loss: 0.1379 - accuracy: 0.9413 - val_loss: 0.7141 - val_accuracy: 0.8995\n",
      "Epoch 90/100\n",
      "32/32 [==============================] - 1s 34ms/step - loss: 0.1581 - accuracy: 0.9325 - val_loss: 0.5784 - val_accuracy: 0.9132\n",
      "Epoch 91/100\n",
      "32/32 [==============================] - 1s 30ms/step - loss: 0.1392 - accuracy: 0.9432 - val_loss: 0.4822 - val_accuracy: 0.9041\n",
      "Epoch 92/100\n",
      "32/32 [==============================] - 1s 35ms/step - loss: 0.1106 - accuracy: 0.9569 - val_loss: 0.6190 - val_accuracy: 0.8995\n",
      "Epoch 93/100\n",
      "32/32 [==============================] - 1s 29ms/step - loss: 0.1134 - accuracy: 0.9511 - val_loss: 0.7063 - val_accuracy: 0.8995\n",
      "Epoch 94/100\n",
      "32/32 [==============================] - 1s 26ms/step - loss: 0.1059 - accuracy: 0.9560 - val_loss: 0.6602 - val_accuracy: 0.8950\n",
      "Epoch 95/100\n",
      "32/32 [==============================] - 1s 32ms/step - loss: 0.1097 - accuracy: 0.9560 - val_loss: 0.6633 - val_accuracy: 0.9041\n",
      "Epoch 96/100\n",
      "32/32 [==============================] - 1s 30ms/step - loss: 0.1084 - accuracy: 0.9569 - val_loss: 0.5886 - val_accuracy: 0.8904\n",
      "Epoch 97/100\n",
      "32/32 [==============================] - 1s 27ms/step - loss: 0.1242 - accuracy: 0.9452 - val_loss: 0.5949 - val_accuracy: 0.9132\n",
      "Epoch 98/100\n",
      "32/32 [==============================] - 1s 27ms/step - loss: 0.0983 - accuracy: 0.9599 - val_loss: 0.6444 - val_accuracy: 0.9087\n",
      "Epoch 99/100\n",
      "32/32 [==============================] - 1s 27ms/step - loss: 0.1243 - accuracy: 0.9491 - val_loss: 0.5166 - val_accuracy: 0.9178\n",
      "Epoch 100/100\n",
      "32/32 [==============================] - 1s 30ms/step - loss: 0.1265 - accuracy: 0.9481 - val_loss: 0.6258 - val_accuracy: 0.9087\n"
     ]
    }
   ],
   "source": [
    "model_2 = Sequential([\n",
    "    Dense(1000, activation='relu', input_shape=(10,)),\n",
    "    Dense(1000, activation='relu'),\n",
    "    Dense(1000, activation='relu'),\n",
    "    Dense(1000, activation='relu'),\n",
    "    Dense(1, activation='sigmoid'),\n",
    "])\n",
    "\n",
    "model_2.compile(optimizer='adam',\n",
    "              loss='binary_crossentropy',\n",
    "              metrics=['accuracy'])\n",
    "              \n",
    "hist_2 = model_2.fit(X_train, Y_train,\n",
    "          batch_size=32, epochs=100,\n",
    "          validation_data=(X_val, Y_val))"
   ]
  },
  {
   "cell_type": "code",
   "execution_count": 24,
   "metadata": {
    "colab": {
     "base_uri": "https://localhost:8080/",
     "height": 295
    },
    "executionInfo": {
     "elapsed": 1508,
     "status": "ok",
     "timestamp": 1659535155104,
     "user": {
      "displayName": "Karpagam K",
      "userId": "15140805608201077842"
     },
     "user_tz": -330
    },
    "id": "H42jCvpO_MXT",
    "outputId": "e6e934b2-9d39-4cf5-aefb-6742d171b007"
   },
   "outputs": [
    {
     "data": {
      "image/png": "[encoded data removed]",
      "text/plain": [
       "<Figure size 432x288 with 1 Axes>"
      ]
     },
     "metadata": {
      "needs_background": "light"
     },
     "output_type": "display_data"
    }
   ],
   "source": [
    "plt.plot(hist_2.history['loss'])\n",
    "plt.plot(hist_2.history['val_loss'])\n",
    "plt.title('Model loss')\n",
    "plt.ylabel('Loss')\n",
    "plt.xlabel('Epoch')\n",
    "plt.legend(['Train', 'Val'], loc='upper right')\n",
    "plt.show()"
   ]
  },
  {
   "cell_type": "code",
   "execution_count": 25,
   "metadata": {
    "colab": {
     "base_uri": "https://localhost:8080/",
     "height": 295
    },
    "executionInfo": {
     "elapsed": 870,
     "status": "ok",
     "timestamp": 1659535172761,
     "user": {
      "displayName": "Karpagam K",
      "userId": "15140805608201077842"
     },
     "user_tz": -330
    },
    "id": "GlDTLH4VANWo",
    "outputId": "ddf73437-cd6e-41fb-9d72-f1bff4767b54"
   },
   "outputs": [
    {
     "data": {
      "image/png": "[encoded data removed]",
      "text/plain": [
       "<Figure size 432x288 with 1 Axes>"
      ]
     },
     "metadata": {
      "needs_background": "light"
     },
     "output_type": "display_data"
    }
   ],
   "source": [
    "plt.plot(hist_2.history['accuracy'])\n",
    "plt.plot(hist_2.history['val_accuracy'])\n",
    "plt.title('Model accuracy')\n",
    "plt.ylabel('Accuracy')\n",
    "plt.xlabel('Epoch')\n",
    "plt.legend(['Train', 'Val'], loc='lower right')\n",
    "plt.show()"
   ]
  },
  {
   "cell_type": "code",
   "execution_count": 26,
   "metadata": {
    "executionInfo": {
     "elapsed": 420,
     "status": "ok",
     "timestamp": 1659535192826,
     "user": {
      "displayName": "Karpagam K",
      "userId": "15140805608201077842"
     },
     "user_tz": -330
    },
    "id": "LYA2nVFxARvM"
   },
   "outputs": [],
   "source": [
    "from keras.layers import Dropout\n",
    "from keras import regularizers\n"
   ]
  },
  {
   "cell_type": "code",
   "execution_count": 27,
   "metadata": {
    "executionInfo": {
     "elapsed": 522,
     "status": "ok",
     "timestamp": 1659535204142,
     "user": {
      "displayName": "Karpagam K",
      "userId": "15140805608201077842"
     },
     "user_tz": -330
    },
    "id": "pBE4n26lAW1F"
   },
   "outputs": [],
   "source": [
    "model_3 = Sequential([\n",
    "    Dense(1000, activation='relu', kernel_regularizer=regularizers.l2(0.01), input_shape=(10,)),\n",
    "    Dropout(0.3),\n",
    "    Dense(1000, activation='relu', kernel_regularizer=regularizers.l2(0.01)),\n",
    "    Dropout(0.3),\n",
    "    Dense(1000, activation='relu', kernel_regularizer=regularizers.l2(0.01)),\n",
    "    Dropout(0.3),\n",
    "    Dense(1000, activation='relu', kernel_regularizer=regularizers.l2(0.01)),\n",
    "    Dropout(0.3),\n",
    "    Dense(1, activation='sigmoid', kernel_regularizer=regularizers.l2(0.01)),\n",
    "])"
   ]
  },
  {
   "cell_type": "code",
   "execution_count": 28,
   "metadata": {
    "colab": {
     "base_uri": "https://localhost:8080/"
    },
    "executionInfo": {
     "elapsed": 203746,
     "status": "ok",
     "timestamp": 1659535421287,
     "user": {
      "displayName": "Karpagam K",
      "userId": "15140805608201077842"
     },
     "user_tz": -330
    },
    "id": "MLQf2A21AZgA",
    "outputId": "afdaf852-2fae-4742-8614-07e4161cfcea"
   },
   "outputs": [
    {
     "name": "stdout",
     "output_type": "stream",
     "text": [
      "Epoch 1/100\n",
      "32/32 [==============================] - 2s 55ms/step - loss: 14.2529 - accuracy: 0.6096 - val_loss: 3.8941 - val_accuracy: 0.8630\n",
      "Epoch 2/100\n",
      "32/32 [==============================] - 2s 48ms/step - loss: 1.6910 - accuracy: 0.8131 - val_loss: 0.6063 - val_accuracy: 0.8995\n",
      "Epoch 3/100\n",
      "32/32 [==============================] - 2s 57ms/step - loss: 0.5643 - accuracy: 0.8679 - val_loss: 0.4721 - val_accuracy: 0.9178\n",
      "Epoch 4/100\n",
      "32/32 [==============================] - 1s 43ms/step - loss: 0.5112 - accuracy: 0.8679 - val_loss: 0.4559 - val_accuracy: 0.9224\n",
      "Epoch 5/100\n",
      "32/32 [==============================] - 2s 51ms/step - loss: 0.5101 - accuracy: 0.8620 - val_loss: 0.4399 - val_accuracy: 0.9087\n",
      "Epoch 6/100\n",
      "32/32 [==============================] - 2s 48ms/step - loss: 0.5271 - accuracy: 0.8474 - val_loss: 0.4335 - val_accuracy: 0.9132\n",
      "Epoch 7/100\n",
      "32/32 [==============================] - 1s 44ms/step - loss: 0.4838 - accuracy: 0.8718 - val_loss: 0.4242 - val_accuracy: 0.9178\n",
      "Epoch 8/100\n",
      "32/32 [==============================] - 1s 46ms/step - loss: 0.4744 - accuracy: 0.8738 - val_loss: 0.4379 - val_accuracy: 0.8904\n",
      "Epoch 9/100\n",
      "32/32 [==============================] - 2s 48ms/step - loss: 0.4871 - accuracy: 0.8591 - val_loss: 0.4171 - val_accuracy: 0.9178\n",
      "Epoch 10/100\n",
      "32/32 [==============================] - 1s 45ms/step - loss: 0.4810 - accuracy: 0.8689 - val_loss: 0.4823 - val_accuracy: 0.8813\n",
      "Epoch 11/100\n",
      "32/32 [==============================] - 1s 44ms/step - loss: 0.4730 - accuracy: 0.8640 - val_loss: 0.4242 - val_accuracy: 0.9087\n",
      "Epoch 12/100\n",
      "32/32 [==============================] - 1s 44ms/step - loss: 0.4648 - accuracy: 0.8728 - val_loss: 0.4094 - val_accuracy: 0.9269\n",
      "Epoch 13/100\n",
      "32/32 [==============================] - 1s 46ms/step - loss: 0.4729 - accuracy: 0.8650 - val_loss: 0.4521 - val_accuracy: 0.9132\n",
      "Epoch 14/100\n",
      "32/32 [==============================] - 1s 43ms/step - loss: 0.4612 - accuracy: 0.8650 - val_loss: 0.5055 - val_accuracy: 0.8539\n",
      "Epoch 15/100\n",
      "32/32 [==============================] - 2s 48ms/step - loss: 0.4763 - accuracy: 0.8699 - val_loss: 0.4292 - val_accuracy: 0.9087\n",
      "Epoch 16/100\n",
      "32/32 [==============================] - 2s 63ms/step - loss: 0.4670 - accuracy: 0.8718 - val_loss: 0.5211 - val_accuracy: 0.8676\n",
      "Epoch 17/100\n",
      "32/32 [==============================] - 2s 63ms/step - loss: 0.5182 - accuracy: 0.8474 - val_loss: 0.4309 - val_accuracy: 0.8950\n",
      "Epoch 18/100\n",
      "32/32 [==============================] - 2s 55ms/step - loss: 0.4683 - accuracy: 0.8777 - val_loss: 0.4304 - val_accuracy: 0.9087\n",
      "Epoch 19/100\n",
      "32/32 [==============================] - 1s 46ms/step - loss: 0.4464 - accuracy: 0.8699 - val_loss: 0.4085 - val_accuracy: 0.9178\n",
      "Epoch 20/100\n",
      "32/32 [==============================] - 1s 44ms/step - loss: 0.4647 - accuracy: 0.8806 - val_loss: 0.4191 - val_accuracy: 0.8950\n",
      "Epoch 21/100\n",
      "32/32 [==============================] - 1s 45ms/step - loss: 0.4508 - accuracy: 0.8777 - val_loss: 0.4000 - val_accuracy: 0.9132\n",
      "Epoch 22/100\n",
      "32/32 [==============================] - 1s 46ms/step - loss: 0.4447 - accuracy: 0.8708 - val_loss: 0.3974 - val_accuracy: 0.9269\n",
      "Epoch 23/100\n",
      "32/32 [==============================] - 1s 44ms/step - loss: 0.4787 - accuracy: 0.8591 - val_loss: 0.4392 - val_accuracy: 0.8950\n",
      "Epoch 24/100\n",
      "32/32 [==============================] - 1s 43ms/step - loss: 0.4525 - accuracy: 0.8787 - val_loss: 0.4199 - val_accuracy: 0.9132\n",
      "Epoch 25/100\n",
      "32/32 [==============================] - 1s 42ms/step - loss: 0.4537 - accuracy: 0.8620 - val_loss: 0.4120 - val_accuracy: 0.9087\n",
      "Epoch 26/100\n",
      "32/32 [==============================] - 1s 43ms/step - loss: 0.4478 - accuracy: 0.8738 - val_loss: 0.4052 - val_accuracy: 0.9087\n",
      "Epoch 27/100\n",
      "32/32 [==============================] - 1s 44ms/step - loss: 0.4351 - accuracy: 0.8816 - val_loss: 0.4018 - val_accuracy: 0.9178\n",
      "Epoch 28/100\n",
      "32/32 [==============================] - 1s 46ms/step - loss: 0.4527 - accuracy: 0.8689 - val_loss: 0.4040 - val_accuracy: 0.9132\n",
      "Epoch 29/100\n",
      "32/32 [==============================] - 2s 48ms/step - loss: 0.4630 - accuracy: 0.8748 - val_loss: 0.4165 - val_accuracy: 0.9087\n",
      "Epoch 30/100\n",
      "32/32 [==============================] - 1s 46ms/step - loss: 0.4647 - accuracy: 0.8777 - val_loss: 0.4291 - val_accuracy: 0.8995\n",
      "Epoch 31/100\n",
      "32/32 [==============================] - 1s 46ms/step - loss: 0.4459 - accuracy: 0.8767 - val_loss: 0.3993 - val_accuracy: 0.9269\n",
      "Epoch 32/100\n",
      "32/32 [==============================] - 1s 46ms/step - loss: 0.4642 - accuracy: 0.8689 - val_loss: 0.3997 - val_accuracy: 0.9224\n",
      "Epoch 33/100\n",
      "32/32 [==============================] - 1s 46ms/step - loss: 0.4548 - accuracy: 0.8689 - val_loss: 0.4151 - val_accuracy: 0.9178\n",
      "Epoch 34/100\n",
      "32/32 [==============================] - 1s 43ms/step - loss: 0.4779 - accuracy: 0.8699 - val_loss: 0.4763 - val_accuracy: 0.8858\n",
      "Epoch 35/100\n",
      "32/32 [==============================] - 1s 47ms/step - loss: 0.4629 - accuracy: 0.8513 - val_loss: 0.3972 - val_accuracy: 0.9132\n",
      "Epoch 36/100\n",
      "32/32 [==============================] - 1s 44ms/step - loss: 0.4381 - accuracy: 0.8836 - val_loss: 0.3961 - val_accuracy: 0.9132\n",
      "Epoch 37/100\n",
      "32/32 [==============================] - 1s 43ms/step - loss: 0.4503 - accuracy: 0.8728 - val_loss: 0.4190 - val_accuracy: 0.9087\n",
      "Epoch 38/100\n",
      "32/32 [==============================] - 2s 48ms/step - loss: 0.4412 - accuracy: 0.8796 - val_loss: 0.4011 - val_accuracy: 0.9178\n",
      "Epoch 39/100\n",
      "32/32 [==============================] - 2s 52ms/step - loss: 0.4428 - accuracy: 0.8757 - val_loss: 0.4025 - val_accuracy: 0.9132\n",
      "Epoch 40/100\n",
      "32/32 [==============================] - 1s 45ms/step - loss: 0.4564 - accuracy: 0.8748 - val_loss: 0.4086 - val_accuracy: 0.9087\n",
      "Epoch 41/100\n",
      "32/32 [==============================] - 1s 42ms/step - loss: 0.4430 - accuracy: 0.8699 - val_loss: 0.4302 - val_accuracy: 0.8950\n",
      "Epoch 42/100\n",
      "32/32 [==============================] - 1s 42ms/step - loss: 0.4520 - accuracy: 0.8836 - val_loss: 0.4111 - val_accuracy: 0.9224\n",
      "Epoch 43/100\n",
      "32/32 [==============================] - 1s 44ms/step - loss: 0.4371 - accuracy: 0.8806 - val_loss: 0.4127 - val_accuracy: 0.9178\n",
      "Epoch 44/100\n",
      "32/32 [==============================] - 1s 43ms/step - loss: 0.4540 - accuracy: 0.8757 - val_loss: 0.4019 - val_accuracy: 0.9178\n",
      "Epoch 45/100\n",
      "32/32 [==============================] - 1s 42ms/step - loss: 0.4423 - accuracy: 0.8836 - val_loss: 0.4042 - val_accuracy: 0.9087\n",
      "Epoch 46/100\n",
      "32/32 [==============================] - 1s 43ms/step - loss: 0.4385 - accuracy: 0.8787 - val_loss: 0.4004 - val_accuracy: 0.9224\n",
      "Epoch 47/100\n",
      "32/32 [==============================] - 1s 42ms/step - loss: 0.4409 - accuracy: 0.8826 - val_loss: 0.4033 - val_accuracy: 0.9132\n",
      "Epoch 48/100\n",
      "32/32 [==============================] - 1s 40ms/step - loss: 0.4404 - accuracy: 0.8816 - val_loss: 0.4273 - val_accuracy: 0.8995\n",
      "Epoch 49/100\n",
      "32/32 [==============================] - 1s 42ms/step - loss: 0.4459 - accuracy: 0.8787 - val_loss: 0.4103 - val_accuracy: 0.9087\n",
      "Epoch 50/100\n",
      "32/32 [==============================] - 1s 45ms/step - loss: 0.4384 - accuracy: 0.8875 - val_loss: 0.4152 - val_accuracy: 0.9178\n",
      "Epoch 51/100\n",
      "32/32 [==============================] - 1s 44ms/step - loss: 0.4566 - accuracy: 0.8767 - val_loss: 0.4101 - val_accuracy: 0.9224\n",
      "Epoch 52/100\n",
      "32/32 [==============================] - 1s 42ms/step - loss: 0.4445 - accuracy: 0.8894 - val_loss: 0.4116 - val_accuracy: 0.9178\n",
      "Epoch 53/100\n",
      "32/32 [==============================] - 1s 42ms/step - loss: 0.4475 - accuracy: 0.8748 - val_loss: 0.4003 - val_accuracy: 0.9178\n",
      "Epoch 54/100\n",
      "32/32 [==============================] - 1s 47ms/step - loss: 0.4603 - accuracy: 0.8542 - val_loss: 0.4115 - val_accuracy: 0.9132\n",
      "Epoch 55/100\n",
      "32/32 [==============================] - 2s 49ms/step - loss: 0.4321 - accuracy: 0.8806 - val_loss: 0.4097 - val_accuracy: 0.9087\n",
      "Epoch 56/100\n",
      "32/32 [==============================] - 1s 46ms/step - loss: 0.4376 - accuracy: 0.8806 - val_loss: 0.4065 - val_accuracy: 0.9087\n",
      "Epoch 57/100\n",
      "32/32 [==============================] - 1s 44ms/step - loss: 0.4481 - accuracy: 0.8767 - val_loss: 0.4049 - val_accuracy: 0.9132\n",
      "Epoch 58/100\n"
     ]
    },
    {
     "name": "stdout",
     "output_type": "stream",
     "text": [
      "32/32 [==============================] - 1s 41ms/step - loss: 0.4360 - accuracy: 0.8777 - val_loss: 0.4228 - val_accuracy: 0.8995\n",
      "Epoch 59/100\n",
      "32/32 [==============================] - 1s 39ms/step - loss: 0.4563 - accuracy: 0.8630 - val_loss: 0.4105 - val_accuracy: 0.9087\n",
      "Epoch 60/100\n",
      "32/32 [==============================] - 1s 39ms/step - loss: 0.4599 - accuracy: 0.8757 - val_loss: 0.4058 - val_accuracy: 0.9224\n",
      "Epoch 61/100\n",
      "32/32 [==============================] - 1s 43ms/step - loss: 0.4433 - accuracy: 0.8757 - val_loss: 0.4036 - val_accuracy: 0.9224\n",
      "Epoch 62/100\n",
      "32/32 [==============================] - 1s 43ms/step - loss: 0.4532 - accuracy: 0.8718 - val_loss: 0.3972 - val_accuracy: 0.9178\n",
      "Epoch 63/100\n",
      "32/32 [==============================] - 1s 41ms/step - loss: 0.4555 - accuracy: 0.8738 - val_loss: 0.4036 - val_accuracy: 0.9224\n",
      "Epoch 64/100\n",
      "32/32 [==============================] - 1s 41ms/step - loss: 0.4578 - accuracy: 0.8679 - val_loss: 0.4154 - val_accuracy: 0.9178\n",
      "Epoch 65/100\n",
      "32/32 [==============================] - 1s 44ms/step - loss: 0.4389 - accuracy: 0.8855 - val_loss: 0.4085 - val_accuracy: 0.9132\n",
      "Epoch 66/100\n",
      "32/32 [==============================] - 1s 43ms/step - loss: 0.4386 - accuracy: 0.8816 - val_loss: 0.3999 - val_accuracy: 0.9224\n",
      "Epoch 67/100\n",
      "32/32 [==============================] - 1s 42ms/step - loss: 0.4308 - accuracy: 0.8865 - val_loss: 0.4226 - val_accuracy: 0.8995\n",
      "Epoch 68/100\n",
      "32/32 [==============================] - 1s 42ms/step - loss: 0.4437 - accuracy: 0.8777 - val_loss: 0.4201 - val_accuracy: 0.8995\n",
      "Epoch 69/100\n",
      "32/32 [==============================] - 1s 41ms/step - loss: 0.4408 - accuracy: 0.8796 - val_loss: 0.4281 - val_accuracy: 0.9041\n",
      "Epoch 70/100\n",
      "32/32 [==============================] - 1s 39ms/step - loss: 0.4473 - accuracy: 0.8845 - val_loss: 0.4020 - val_accuracy: 0.9132\n",
      "Epoch 71/100\n",
      "32/32 [==============================] - 1s 40ms/step - loss: 0.4394 - accuracy: 0.8894 - val_loss: 0.4188 - val_accuracy: 0.9087\n",
      "Epoch 72/100\n",
      "32/32 [==============================] - 1s 42ms/step - loss: 0.4439 - accuracy: 0.8718 - val_loss: 0.4052 - val_accuracy: 0.9224\n",
      "Epoch 73/100\n",
      "32/32 [==============================] - 1s 44ms/step - loss: 0.4571 - accuracy: 0.8640 - val_loss: 0.4024 - val_accuracy: 0.9224\n",
      "Epoch 74/100\n",
      "32/32 [==============================] - 1s 42ms/step - loss: 0.4313 - accuracy: 0.8836 - val_loss: 0.4018 - val_accuracy: 0.9132\n",
      "Epoch 75/100\n",
      "32/32 [==============================] - 1s 41ms/step - loss: 0.4451 - accuracy: 0.8669 - val_loss: 0.4387 - val_accuracy: 0.8995\n",
      "Epoch 76/100\n",
      "32/32 [==============================] - 1s 43ms/step - loss: 0.4524 - accuracy: 0.8738 - val_loss: 0.4023 - val_accuracy: 0.9087\n",
      "Epoch 77/100\n",
      "32/32 [==============================] - 1s 43ms/step - loss: 0.4439 - accuracy: 0.8796 - val_loss: 0.3973 - val_accuracy: 0.9178\n",
      "Epoch 78/100\n",
      "32/32 [==============================] - 1s 42ms/step - loss: 0.4488 - accuracy: 0.8708 - val_loss: 0.4015 - val_accuracy: 0.9132\n",
      "Epoch 79/100\n",
      "32/32 [==============================] - 1s 42ms/step - loss: 0.4404 - accuracy: 0.8787 - val_loss: 0.4012 - val_accuracy: 0.9087\n",
      "Epoch 80/100\n",
      "32/32 [==============================] - 1s 46ms/step - loss: 0.4396 - accuracy: 0.8894 - val_loss: 0.4006 - val_accuracy: 0.9178\n",
      "Epoch 81/100\n",
      "32/32 [==============================] - 1s 40ms/step - loss: 0.4610 - accuracy: 0.8679 - val_loss: 0.4178 - val_accuracy: 0.9087\n",
      "Epoch 82/100\n",
      "32/32 [==============================] - 1s 38ms/step - loss: 0.4531 - accuracy: 0.8659 - val_loss: 0.4295 - val_accuracy: 0.8995\n",
      "Epoch 83/100\n",
      "32/32 [==============================] - 1s 39ms/step - loss: 0.4536 - accuracy: 0.8708 - val_loss: 0.4018 - val_accuracy: 0.9132\n",
      "Epoch 84/100\n",
      "32/32 [==============================] - 1s 41ms/step - loss: 0.4470 - accuracy: 0.8796 - val_loss: 0.4072 - val_accuracy: 0.9224\n",
      "Epoch 85/100\n",
      "32/32 [==============================] - 1s 41ms/step - loss: 0.4619 - accuracy: 0.8708 - val_loss: 0.4073 - val_accuracy: 0.9132\n",
      "Epoch 86/100\n",
      "32/32 [==============================] - 1s 41ms/step - loss: 0.4452 - accuracy: 0.8748 - val_loss: 0.3992 - val_accuracy: 0.9132\n",
      "Epoch 87/100\n",
      "32/32 [==============================] - 1s 42ms/step - loss: 0.4432 - accuracy: 0.8689 - val_loss: 0.4490 - val_accuracy: 0.8950\n",
      "Epoch 88/100\n",
      "32/32 [==============================] - 1s 45ms/step - loss: 0.4502 - accuracy: 0.8669 - val_loss: 0.3990 - val_accuracy: 0.9224\n",
      "Epoch 89/100\n",
      "32/32 [==============================] - 2s 50ms/step - loss: 0.4380 - accuracy: 0.8699 - val_loss: 0.4036 - val_accuracy: 0.9132\n",
      "Epoch 90/100\n",
      "32/32 [==============================] - 2s 50ms/step - loss: 0.4489 - accuracy: 0.8718 - val_loss: 0.4225 - val_accuracy: 0.8995\n",
      "Epoch 91/100\n",
      "32/32 [==============================] - 2s 47ms/step - loss: 0.4408 - accuracy: 0.8738 - val_loss: 0.4053 - val_accuracy: 0.9132\n",
      "Epoch 92/100\n",
      "32/32 [==============================] - 1s 45ms/step - loss: 0.4692 - accuracy: 0.8640 - val_loss: 0.4456 - val_accuracy: 0.8950\n",
      "Epoch 93/100\n",
      "32/32 [==============================] - 1s 44ms/step - loss: 0.4931 - accuracy: 0.8483 - val_loss: 0.4122 - val_accuracy: 0.9132\n",
      "Epoch 94/100\n",
      "32/32 [==============================] - 1s 45ms/step - loss: 0.4502 - accuracy: 0.8738 - val_loss: 0.4112 - val_accuracy: 0.9132\n",
      "Epoch 95/100\n",
      "32/32 [==============================] - 1s 42ms/step - loss: 0.4394 - accuracy: 0.8806 - val_loss: 0.4015 - val_accuracy: 0.9132\n",
      "Epoch 96/100\n",
      "32/32 [==============================] - 1s 44ms/step - loss: 0.4280 - accuracy: 0.8836 - val_loss: 0.4168 - val_accuracy: 0.9087\n",
      "Epoch 97/100\n",
      "32/32 [==============================] - 1s 44ms/step - loss: 0.4370 - accuracy: 0.8718 - val_loss: 0.4008 - val_accuracy: 0.9132\n",
      "Epoch 98/100\n",
      "32/32 [==============================] - 1s 47ms/step - loss: 0.4456 - accuracy: 0.8738 - val_loss: 0.4025 - val_accuracy: 0.9132\n",
      "Epoch 99/100\n",
      "32/32 [==============================] - 1s 45ms/step - loss: 0.4381 - accuracy: 0.8757 - val_loss: 0.4029 - val_accuracy: 0.9178\n",
      "Epoch 100/100\n",
      "32/32 [==============================] - 1s 46ms/step - loss: 0.4509 - accuracy: 0.8787 - val_loss: 0.4315 - val_accuracy: 0.8950\n"
     ]
    }
   ],
   "source": [
    "model_3.compile(optimizer='adam',\n",
    "              loss='binary_crossentropy',\n",
    "              metrics=['accuracy'])\n",
    "              \n",
    "hist_3 = model_3.fit(X_train, Y_train,\n",
    "          batch_size=32, epochs=100,\n",
    "          validation_data=(X_val, Y_val))"
   ]
  },
  {
   "cell_type": "code",
   "execution_count": 29,
   "metadata": {
    "colab": {
     "base_uri": "https://localhost:8080/",
     "height": 295
    },
    "executionInfo": {
     "elapsed": 1680,
     "status": "ok",
     "timestamp": 1659535462942,
     "user": {
      "displayName": "Karpagam K",
      "userId": "15140805608201077842"
     },
     "user_tz": -330
    },
    "id": "WEq-4JX5Ach0",
    "outputId": "bf80a783-741b-4e00-a160-5955cae06c4c"
   },
   "outputs": [
    {
     "data": {
      "image/png": "[encoded data removed]",
      "text/plain": [
       "<Figure size 432x288 with 1 Axes>"
      ]
     },
     "metadata": {
      "needs_background": "light"
     },
     "output_type": "display_data"
    }
   ],
   "source": [
    "plt.plot(hist_3.history['loss'])\n",
    "plt.plot(hist_3.history['val_loss'])\n",
    "plt.title('Model loss')\n",
    "plt.ylabel('Loss')\n",
    "plt.xlabel('Epoch')\n",
    "plt.legend(['Train', 'Val'], loc='upper right')\n",
    "plt.ylim(top=1.2, bottom=0)\n",
    "plt.show()"
   ]
  },
  {
   "cell_type": "code",
   "execution_count": 30,
   "metadata": {
    "colab": {
     "base_uri": "https://localhost:8080/",
     "height": 295
    },
    "executionInfo": {
     "elapsed": 1015,
     "status": "ok",
     "timestamp": 1659535480545,
     "user": {
      "displayName": "Karpagam K",
      "userId": "15140805608201077842"
     },
     "user_tz": -330
    },
    "id": "tZJEbLXaBYeO",
    "outputId": "bebaf7ed-ca99-4d13-cc02-9714ffd9b199"
   },
   "outputs": [
    {
     "data": {
      "image/png": "[encoded data removed]",
      "text/plain": [
       "<Figure size 432x288 with 1 Axes>"
      ]
     },
     "metadata": {
      "needs_background": "light"
     },
     "output_type": "display_data"
    }
   ],
   "source": [
    "plt.plot(hist_3.history['accuracy'])\n",
    "plt.plot(hist_3.history['val_accuracy'])\n",
    "plt.title('Model accuracy')\n",
    "plt.ylabel('Accuracy')\n",
    "plt.xlabel('Epoch')\n",
    "plt.legend(['Train', 'Val'], loc='lower right')\n",
    "plt.show()"
   ]
  },
  {
   "cell_type": "code",
   "execution_count": null,
   "metadata": {
    "id": "NgoAfroJBcoH"
   },
   "outputs": [],
   "source": []
  }
 ],
 "metadata": {
  "colab": {
   "authorship_tag": "ABX9TyNSVMBbDE+JoEtE4vRVJZoo",
   "collapsed_sections": [],
   "name": "annusingbackpropagation.ipynb",
   "provenance": []
  },
  "kernelspec": {
   "display_name": "Python 3 (ipykernel)",
   "language": "python",
   "name": "python3"
  },
  "language_info": {
   "codemirror_mode": {
    "name": "ipython",
    "version": 3
   },
   "file_extension": ".py",
   "mimetype": "text/x-python",
   "name": "python",
   "nbconvert_exporter": "python",
   "pygments_lexer": "ipython3",
   "version": "3.9.12"
  }
 },
 "nbformat": 4,
 "nbformat_minor": 1
}
