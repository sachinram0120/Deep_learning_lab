{
 "cells": [
  {
   "cell_type": "code",
   "execution_count": 1,
   "id": "64e8599d",
   "metadata": {},
   "outputs": [],
   "source": [
    "#pip install opencv-python"
   ]
  },
  {
   "cell_type": "code",
   "execution_count": 2,
   "id": "161c58e0",
   "metadata": {},
   "outputs": [],
   "source": [
    "import cv2 as cv\n",
    "import numpy as np"
   ]
  },
  {
   "cell_type": "code",
   "execution_count": 7,
   "id": "9ac05256",
   "metadata": {},
   "outputs": [],
   "source": [
    "def bs():\n",
    "    cap = cv.VideoCapture(\"birds_sky.mp4\")\n",
    "\n",
    "    #fgbg = cv.createBackgroundSubtractorMOG2(detectShadows=False)\n",
    "    fgbg = cv.createBackgroundSubtractorKNN(detectShadows=False)\n",
    "\n",
    "    while cap.isOpened():\n",
    "        ret, frame = cap.read()\n",
    "\n",
    "        if frame is None:\n",
    "            break\n",
    "\n",
    "        fgmask = fgbg.apply(frame)\n",
    "\n",
    "        cv.imshow('Frame', frame)\n",
    "        cv.imshow('FG Mask', fgmask)\n",
    "        if cv.waitKey(30) & 0xFF == ord('q'):\n",
    "            break\n",
    "\n",
    "    cap.release()\n",
    "    cv.destroyAllWindows()"
   ]
  },
  {
   "cell_type": "code",
   "execution_count": 8,
   "id": "9cc542e3",
   "metadata": {},
   "outputs": [],
   "source": [
    "bs()"
   ]
  },
  {
   "cell_type": "code",
   "execution_count": 5,
   "id": "8173bcee",
   "metadata": {},
   "outputs": [],
   "source": [
    "def realtime():\n",
    "    cap = cv.VideoCapture(0)\n",
    "\n",
    "    #fgbg = cv.createBackgroundSubtractorMOG2(detectShadows=False)\n",
    "    fgbg = cv.createBackgroundSubtractorKNN(detectShadows=False)\n",
    "\n",
    "    while cap.isOpened():\n",
    "        ret, frame = cap.read()\n",
    "\n",
    "        if frame is None:\n",
    "            break\n",
    "\n",
    "        fgmask = fgbg.apply(frame)\n",
    "\n",
    "        cv.imshow('Frame', frame)\n",
    "        cv.imshow('FG Mask', fgmask)\n",
    "        if cv.waitKey(30) & 0xFF == ord('q'):\n",
    "            break\n",
    "\n",
    "    cap.release()\n",
    "    cv.destroyAllWindows()"
   ]
  },
  {
   "cell_type": "code",
   "execution_count": null,
   "id": "02d2f1a6",
   "metadata": {},
   "outputs": [],
   "source": [
    "#realtime()"
   ]
  }
 ],
 "metadata": {
  "kernelspec": {
   "display_name": "Python 3 (ipykernel)",
   "language": "python",
   "name": "python3"
  },
  "language_info": {
   "codemirror_mode": {
    "name": "ipython",
    "version": 3
   },
   "file_extension": ".py",
   "mimetype": "text/x-python",
   "name": "python",
   "nbconvert_exporter": "python",
   "pygments_lexer": "ipython3",
   "version": "3.10.2"
  }
 },
 "nbformat": 4,
 "nbformat_minor": 5
}
