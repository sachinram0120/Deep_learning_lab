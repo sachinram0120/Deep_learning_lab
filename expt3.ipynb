{
 "cells": [
  {
   "cell_type": "code",
   "execution_count": 1,
   "id": "04b8f35c",
   "metadata": {},
   "outputs": [],
   "source": [
    "import numpy as np\n",
    "import pandas as pd\n",
    "#from sklearn import preprocessing\n",
    "import matplotlib.pyplot as plt\n",
    "from sklearn.model_selection import train_test_split\n",
    "from sklearn.neural_network import MLPClassifier\n",
    "from sklearn.metrics import accuracy_score\n",
    "from sklearn.metrics import confusion_matrix"
   ]
  },
  {
   "cell_type": "code",
   "execution_count": 2,
   "id": "b9b77875",
   "metadata": {},
   "outputs": [
    {
     "data": {
      "text/html": [
       "<div>\n",
       "<style scoped>\n",
       "    .dataframe tbody tr th:only-of-type {\n",
       "        vertical-align: middle;\n",
       "    }\n",
       "\n",
       "    .dataframe tbody tr th {\n",
       "        vertical-align: top;\n",
       "    }\n",
       "\n",
       "    .dataframe thead th {\n",
       "        text-align: right;\n",
       "    }\n",
       "</style>\n",
       "<table border=\"1\" class=\"dataframe\">\n",
       "  <thead>\n",
       "    <tr style=\"text-align: right;\">\n",
       "      <th></th>\n",
       "      <th>satisfaction_level</th>\n",
       "      <th>last_evaluation</th>\n",
       "      <th>number_project</th>\n",
       "      <th>average_montly_hours</th>\n",
       "      <th>time_spend_company</th>\n",
       "      <th>Work_accident</th>\n",
       "      <th>left</th>\n",
       "      <th>promotion_last_5years</th>\n",
       "      <th>sales</th>\n",
       "      <th>salary</th>\n",
       "    </tr>\n",
       "  </thead>\n",
       "  <tbody>\n",
       "    <tr>\n",
       "      <th>0</th>\n",
       "      <td>0.38</td>\n",
       "      <td>0.53</td>\n",
       "      <td>2</td>\n",
       "      <td>157</td>\n",
       "      <td>3</td>\n",
       "      <td>0</td>\n",
       "      <td>1</td>\n",
       "      <td>0</td>\n",
       "      <td>sales</td>\n",
       "      <td>low</td>\n",
       "    </tr>\n",
       "    <tr>\n",
       "      <th>1</th>\n",
       "      <td>0.80</td>\n",
       "      <td>0.86</td>\n",
       "      <td>5</td>\n",
       "      <td>262</td>\n",
       "      <td>6</td>\n",
       "      <td>0</td>\n",
       "      <td>1</td>\n",
       "      <td>0</td>\n",
       "      <td>sales</td>\n",
       "      <td>medium</td>\n",
       "    </tr>\n",
       "    <tr>\n",
       "      <th>2</th>\n",
       "      <td>0.11</td>\n",
       "      <td>0.88</td>\n",
       "      <td>7</td>\n",
       "      <td>272</td>\n",
       "      <td>4</td>\n",
       "      <td>0</td>\n",
       "      <td>1</td>\n",
       "      <td>0</td>\n",
       "      <td>sales</td>\n",
       "      <td>medium</td>\n",
       "    </tr>\n",
       "    <tr>\n",
       "      <th>3</th>\n",
       "      <td>0.72</td>\n",
       "      <td>0.87</td>\n",
       "      <td>5</td>\n",
       "      <td>223</td>\n",
       "      <td>5</td>\n",
       "      <td>0</td>\n",
       "      <td>1</td>\n",
       "      <td>0</td>\n",
       "      <td>sales</td>\n",
       "      <td>low</td>\n",
       "    </tr>\n",
       "    <tr>\n",
       "      <th>4</th>\n",
       "      <td>0.37</td>\n",
       "      <td>0.52</td>\n",
       "      <td>2</td>\n",
       "      <td>159</td>\n",
       "      <td>3</td>\n",
       "      <td>0</td>\n",
       "      <td>1</td>\n",
       "      <td>0</td>\n",
       "      <td>sales</td>\n",
       "      <td>low</td>\n",
       "    </tr>\n",
       "  </tbody>\n",
       "</table>\n",
       "</div>"
      ],
      "text/plain": [
       "   satisfaction_level  last_evaluation  number_project  average_montly_hours  \\\n",
       "0                0.38             0.53               2                   157   \n",
       "1                0.80             0.86               5                   262   \n",
       "2                0.11             0.88               7                   272   \n",
       "3                0.72             0.87               5                   223   \n",
       "4                0.37             0.52               2                   159   \n",
       "\n",
       "   time_spend_company  Work_accident  left  promotion_last_5years  sales  \\\n",
       "0                   3              0     1                      0  sales   \n",
       "1                   6              0     1                      0  sales   \n",
       "2                   4              0     1                      0  sales   \n",
       "3                   5              0     1                      0  sales   \n",
       "4                   3              0     1                      0  sales   \n",
       "\n",
       "   salary  \n",
       "0     low  \n",
       "1  medium  \n",
       "2  medium  \n",
       "3     low  \n",
       "4     low  "
      ]
     },
     "execution_count": 2,
     "metadata": {},
     "output_type": "execute_result"
    }
   ],
   "source": [
    "data=pd.read_csv('HR_comma_sep.csv')\n",
    "data.head()"
   ]
  },
  {
   "cell_type": "code",
   "execution_count": 3,
   "id": "5c87aa9a",
   "metadata": {},
   "outputs": [],
   "source": [
    "# Import LabelEncoder\n",
    "from sklearn import preprocessing\n",
    "\n",
    "# Creating labelEncoder\n",
    "le = preprocessing.LabelEncoder()\n",
    "\n",
    "# Converting string labels into numbers.\n",
    "data['salary']=le.fit_transform(data['salary'])\n",
    "data['sales']=le.fit_transform(data['sales'])"
   ]
  },
  {
   "cell_type": "code",
   "execution_count": 4,
   "id": "af37a2a9",
   "metadata": {},
   "outputs": [
    {
     "data": {
      "text/html": [
       "<div>\n",
       "<style scoped>\n",
       "    .dataframe tbody tr th:only-of-type {\n",
       "        vertical-align: middle;\n",
       "    }\n",
       "\n",
       "    .dataframe tbody tr th {\n",
       "        vertical-align: top;\n",
       "    }\n",
       "\n",
       "    .dataframe thead th {\n",
       "        text-align: right;\n",
       "    }\n",
       "</style>\n",
       "<table border=\"1\" class=\"dataframe\">\n",
       "  <thead>\n",
       "    <tr style=\"text-align: right;\">\n",
       "      <th></th>\n",
       "      <th>satisfaction_level</th>\n",
       "      <th>last_evaluation</th>\n",
       "      <th>number_project</th>\n",
       "      <th>average_montly_hours</th>\n",
       "      <th>time_spend_company</th>\n",
       "      <th>Work_accident</th>\n",
       "      <th>left</th>\n",
       "      <th>promotion_last_5years</th>\n",
       "      <th>sales</th>\n",
       "      <th>salary</th>\n",
       "    </tr>\n",
       "  </thead>\n",
       "  <tbody>\n",
       "    <tr>\n",
       "      <th>0</th>\n",
       "      <td>0.38</td>\n",
       "      <td>0.53</td>\n",
       "      <td>2</td>\n",
       "      <td>157</td>\n",
       "      <td>3</td>\n",
       "      <td>0</td>\n",
       "      <td>1</td>\n",
       "      <td>0</td>\n",
       "      <td>7</td>\n",
       "      <td>1</td>\n",
       "    </tr>\n",
       "    <tr>\n",
       "      <th>1</th>\n",
       "      <td>0.80</td>\n",
       "      <td>0.86</td>\n",
       "      <td>5</td>\n",
       "      <td>262</td>\n",
       "      <td>6</td>\n",
       "      <td>0</td>\n",
       "      <td>1</td>\n",
       "      <td>0</td>\n",
       "      <td>7</td>\n",
       "      <td>2</td>\n",
       "    </tr>\n",
       "    <tr>\n",
       "      <th>2</th>\n",
       "      <td>0.11</td>\n",
       "      <td>0.88</td>\n",
       "      <td>7</td>\n",
       "      <td>272</td>\n",
       "      <td>4</td>\n",
       "      <td>0</td>\n",
       "      <td>1</td>\n",
       "      <td>0</td>\n",
       "      <td>7</td>\n",
       "      <td>2</td>\n",
       "    </tr>\n",
       "    <tr>\n",
       "      <th>3</th>\n",
       "      <td>0.72</td>\n",
       "      <td>0.87</td>\n",
       "      <td>5</td>\n",
       "      <td>223</td>\n",
       "      <td>5</td>\n",
       "      <td>0</td>\n",
       "      <td>1</td>\n",
       "      <td>0</td>\n",
       "      <td>7</td>\n",
       "      <td>1</td>\n",
       "    </tr>\n",
       "    <tr>\n",
       "      <th>4</th>\n",
       "      <td>0.37</td>\n",
       "      <td>0.52</td>\n",
       "      <td>2</td>\n",
       "      <td>159</td>\n",
       "      <td>3</td>\n",
       "      <td>0</td>\n",
       "      <td>1</td>\n",
       "      <td>0</td>\n",
       "      <td>7</td>\n",
       "      <td>1</td>\n",
       "    </tr>\n",
       "    <tr>\n",
       "      <th>...</th>\n",
       "      <td>...</td>\n",
       "      <td>...</td>\n",
       "      <td>...</td>\n",
       "      <td>...</td>\n",
       "      <td>...</td>\n",
       "      <td>...</td>\n",
       "      <td>...</td>\n",
       "      <td>...</td>\n",
       "      <td>...</td>\n",
       "      <td>...</td>\n",
       "    </tr>\n",
       "    <tr>\n",
       "      <th>14994</th>\n",
       "      <td>0.40</td>\n",
       "      <td>0.57</td>\n",
       "      <td>2</td>\n",
       "      <td>151</td>\n",
       "      <td>3</td>\n",
       "      <td>0</td>\n",
       "      <td>1</td>\n",
       "      <td>0</td>\n",
       "      <td>8</td>\n",
       "      <td>1</td>\n",
       "    </tr>\n",
       "    <tr>\n",
       "      <th>14995</th>\n",
       "      <td>0.37</td>\n",
       "      <td>0.48</td>\n",
       "      <td>2</td>\n",
       "      <td>160</td>\n",
       "      <td>3</td>\n",
       "      <td>0</td>\n",
       "      <td>1</td>\n",
       "      <td>0</td>\n",
       "      <td>8</td>\n",
       "      <td>1</td>\n",
       "    </tr>\n",
       "    <tr>\n",
       "      <th>14996</th>\n",
       "      <td>0.37</td>\n",
       "      <td>0.53</td>\n",
       "      <td>2</td>\n",
       "      <td>143</td>\n",
       "      <td>3</td>\n",
       "      <td>0</td>\n",
       "      <td>1</td>\n",
       "      <td>0</td>\n",
       "      <td>8</td>\n",
       "      <td>1</td>\n",
       "    </tr>\n",
       "    <tr>\n",
       "      <th>14997</th>\n",
       "      <td>0.11</td>\n",
       "      <td>0.96</td>\n",
       "      <td>6</td>\n",
       "      <td>280</td>\n",
       "      <td>4</td>\n",
       "      <td>0</td>\n",
       "      <td>1</td>\n",
       "      <td>0</td>\n",
       "      <td>8</td>\n",
       "      <td>1</td>\n",
       "    </tr>\n",
       "    <tr>\n",
       "      <th>14998</th>\n",
       "      <td>0.37</td>\n",
       "      <td>0.52</td>\n",
       "      <td>2</td>\n",
       "      <td>158</td>\n",
       "      <td>3</td>\n",
       "      <td>0</td>\n",
       "      <td>1</td>\n",
       "      <td>0</td>\n",
       "      <td>8</td>\n",
       "      <td>1</td>\n",
       "    </tr>\n",
       "  </tbody>\n",
       "</table>\n",
       "<p>14999 rows × 10 columns</p>\n",
       "</div>"
      ],
      "text/plain": [
       "       satisfaction_level  last_evaluation  number_project  \\\n",
       "0                    0.38             0.53               2   \n",
       "1                    0.80             0.86               5   \n",
       "2                    0.11             0.88               7   \n",
       "3                    0.72             0.87               5   \n",
       "4                    0.37             0.52               2   \n",
       "...                   ...              ...             ...   \n",
       "14994                0.40             0.57               2   \n",
       "14995                0.37             0.48               2   \n",
       "14996                0.37             0.53               2   \n",
       "14997                0.11             0.96               6   \n",
       "14998                0.37             0.52               2   \n",
       "\n",
       "       average_montly_hours  time_spend_company  Work_accident  left  \\\n",
       "0                       157                   3              0     1   \n",
       "1                       262                   6              0     1   \n",
       "2                       272                   4              0     1   \n",
       "3                       223                   5              0     1   \n",
       "4                       159                   3              0     1   \n",
       "...                     ...                 ...            ...   ...   \n",
       "14994                   151                   3              0     1   \n",
       "14995                   160                   3              0     1   \n",
       "14996                   143                   3              0     1   \n",
       "14997                   280                   4              0     1   \n",
       "14998                   158                   3              0     1   \n",
       "\n",
       "       promotion_last_5years  sales  salary  \n",
       "0                          0      7       1  \n",
       "1                          0      7       2  \n",
       "2                          0      7       2  \n",
       "3                          0      7       1  \n",
       "4                          0      7       1  \n",
       "...                      ...    ...     ...  \n",
       "14994                      0      8       1  \n",
       "14995                      0      8       1  \n",
       "14996                      0      8       1  \n",
       "14997                      0      8       1  \n",
       "14998                      0      8       1  \n",
       "\n",
       "[14999 rows x 10 columns]"
      ]
     },
     "execution_count": 4,
     "metadata": {},
     "output_type": "execute_result"
    }
   ],
   "source": [
    "data"
   ]
  },
  {
   "cell_type": "code",
   "execution_count": 5,
   "id": "63389a30",
   "metadata": {},
   "outputs": [],
   "source": [
    "X=data[['satisfaction_level', 'last_evaluation', 'number_project', 'average_montly_hours', 'time_spend_company', 'Work_accident', 'promotion_last_5years', 'sales', 'salary']]\n",
    "y=data['left']"
   ]
  },
  {
   "cell_type": "code",
   "execution_count": 6,
   "id": "0eadd3ff",
   "metadata": {},
   "outputs": [],
   "source": [
    "from sklearn.model_selection import train_test_split\n",
    "\n",
    "# Split dataset into training set and test set\n",
    "X_train, X_test, y_train, y_test = train_test_split(X, y, test_size=0.3, random_state=42)  # 70% training and 30% test\n"
   ]
  },
  {
   "cell_type": "code",
   "execution_count": 7,
   "id": "f8274fda",
   "metadata": {},
   "outputs": [],
   "source": [
    "clf = MLPClassifier(hidden_layer_sizes=(6,5), random_state=5, verbose=False, learning_rate_init=0.01, max_iter = 200)"
   ]
  },
  {
   "cell_type": "code",
   "execution_count": 8,
   "id": "2c211286",
   "metadata": {},
   "outputs": [
    {
     "data": {
      "text/plain": [
       "MLPClassifier(hidden_layer_sizes=(6, 5), learning_rate_init=0.01,\n",
       "              random_state=5)"
      ]
     },
     "execution_count": 8,
     "metadata": {},
     "output_type": "execute_result"
    }
   ],
   "source": [
    "clf.fit(X_train,y_train)"
   ]
  },
  {
   "cell_type": "code",
   "execution_count": 9,
   "id": "c04205e1",
   "metadata": {},
   "outputs": [],
   "source": [
    "ypred=clf.predict(X_test)"
   ]
  },
  {
   "cell_type": "code",
   "execution_count": 10,
   "id": "3a97fd29",
   "metadata": {},
   "outputs": [
    {
     "data": {
      "text/plain": [
       "0.9386666666666666"
      ]
     },
     "execution_count": 10,
     "metadata": {},
     "output_type": "execute_result"
    }
   ],
   "source": [
    "accuracy_score(y_test,ypred)"
   ]
  },
  {
   "cell_type": "code",
   "execution_count": 11,
   "id": "fc3f5444",
   "metadata": {},
   "outputs": [
    {
     "data": {
      "text/plain": [
       "array([[3248,  180],\n",
       "       [  96,  976]], dtype=int64)"
      ]
     },
     "execution_count": 11,
     "metadata": {},
     "output_type": "execute_result"
    }
   ],
   "source": [
    "confusion_matrix(y_test,ypred)"
   ]
  },
  {
   "cell_type": "code",
   "execution_count": 12,
   "id": "92c28323",
   "metadata": {},
   "outputs": [
    {
     "data": {
      "text/plain": [
       "[<matplotlib.lines.Line2D at 0x203a803e2b0>]"
      ]
     },
     "execution_count": 12,
     "metadata": {},
     "output_type": "execute_result"
    },
    {
     "data": {
      "image/png": "[encoded data removed]",
      "text/plain": [
       "<Figure size 432x288 with 1 Axes>"
      ]
     },
     "metadata": {
      "needs_background": "light"
     },
     "output_type": "display_data"
    }
   ],
   "source": [
    "plt.plot(clf.loss_curve_)"
   ]
  },
  {
   "cell_type": "code",
   "execution_count": 13,
   "id": "a6b99c1d",
   "metadata": {},
   "outputs": [],
   "source": [
    "clf2 = MLPClassifier(hidden_layer_sizes=(6,5), random_state=5, verbose=True, learning_rate_init=0.001, max_iter = 200)"
   ]
  },
  {
   "cell_type": "code",
   "execution_count": 14,
   "id": "20dbe208",
   "metadata": {},
   "outputs": [
    {
     "name": "stdout",
     "output_type": "stream",
     "text": [
      "Iteration 1, loss = 0.72543484\n",
      "Iteration 2, loss = 0.61261943\n",
      "Iteration 3, loss = 0.59907926\n",
      "Iteration 4, loss = 0.59548627\n",
      "Iteration 5, loss = 0.59259521\n",
      "Iteration 6, loss = 0.58998521\n",
      "Iteration 7, loss = 0.58773222\n",
      "Iteration 8, loss = 0.58457272\n",
      "Iteration 9, loss = 0.58275628\n",
      "Iteration 10, loss = 0.58015874\n",
      "Iteration 11, loss = 0.57779654\n",
      "Iteration 12, loss = 0.57551772\n",
      "Iteration 13, loss = 0.57320845\n",
      "Iteration 14, loss = 0.56947047\n",
      "Iteration 15, loss = 0.56459607\n",
      "Iteration 16, loss = 0.55827398\n",
      "Iteration 17, loss = 0.55267989\n",
      "Iteration 18, loss = 0.54574165\n",
      "Iteration 19, loss = 0.53960153\n",
      "Iteration 20, loss = 0.53429264\n",
      "Iteration 21, loss = 0.52960101\n",
      "Iteration 22, loss = 0.52264950\n",
      "Iteration 23, loss = 0.51756843\n",
      "Iteration 24, loss = 0.51191457\n",
      "Iteration 25, loss = 0.50662987\n",
      "Iteration 26, loss = 0.50167148\n",
      "Iteration 27, loss = 0.49665251\n",
      "Iteration 28, loss = 0.49264883\n",
      "Iteration 29, loss = 0.48762493\n",
      "Iteration 30, loss = 0.48235799\n",
      "Iteration 31, loss = 0.47445148\n",
      "Iteration 32, loss = 0.45486844\n",
      "Iteration 33, loss = 0.44460642\n",
      "Iteration 34, loss = 0.43170497\n",
      "Iteration 35, loss = 0.42388678\n",
      "Iteration 36, loss = 0.41517222\n",
      "Iteration 37, loss = 0.40662400\n",
      "Iteration 38, loss = 0.39505675\n",
      "Iteration 39, loss = 0.38889100\n",
      "Iteration 40, loss = 0.38053353\n",
      "Iteration 41, loss = 0.37299532\n",
      "Iteration 42, loss = 0.36287960\n",
      "Iteration 43, loss = 0.35663983\n",
      "Iteration 44, loss = 0.35204620\n",
      "Iteration 45, loss = 0.34279734\n",
      "Iteration 46, loss = 0.33492314\n",
      "Iteration 47, loss = 0.32914985\n",
      "Iteration 48, loss = 0.32660165\n",
      "Iteration 49, loss = 0.31968036\n",
      "Iteration 50, loss = 0.31322731\n",
      "Iteration 51, loss = 0.31166897\n",
      "Iteration 52, loss = 0.30920019\n",
      "Iteration 53, loss = 0.30314313\n",
      "Iteration 54, loss = 0.29490800\n",
      "Iteration 55, loss = 0.29833589\n",
      "Iteration 56, loss = 0.29248339\n",
      "Iteration 57, loss = 0.28697563\n",
      "Iteration 58, loss = 0.28290635\n",
      "Iteration 59, loss = 0.28096441\n",
      "Iteration 60, loss = 0.27932664\n",
      "Iteration 61, loss = 0.27608910\n",
      "Iteration 62, loss = 0.27814414\n",
      "Iteration 63, loss = 0.27343942\n",
      "Iteration 64, loss = 0.26963213\n",
      "Iteration 65, loss = 0.26802954\n",
      "Iteration 66, loss = 0.26695519\n",
      "Iteration 67, loss = 0.26504917\n",
      "Iteration 68, loss = 0.26332443\n",
      "Iteration 69, loss = 0.26249872\n",
      "Iteration 70, loss = 0.26759098\n",
      "Iteration 71, loss = 0.26194977\n",
      "Iteration 72, loss = 0.26193260\n",
      "Iteration 73, loss = 0.26037132\n",
      "Iteration 74, loss = 0.26139654\n",
      "Iteration 75, loss = 0.25982557\n",
      "Iteration 76, loss = 0.25630122\n",
      "Iteration 77, loss = 0.25618704\n",
      "Iteration 78, loss = 0.25591874\n",
      "Iteration 79, loss = 0.26027315\n",
      "Iteration 80, loss = 0.25338823\n",
      "Iteration 81, loss = 0.25500029\n",
      "Iteration 82, loss = 0.25217820\n",
      "Iteration 83, loss = 0.25597137\n",
      "Iteration 84, loss = 0.25425723\n",
      "Iteration 85, loss = 0.25409219\n",
      "Iteration 86, loss = 0.25044145\n",
      "Iteration 87, loss = 0.25014591\n",
      "Iteration 88, loss = 0.25073565\n",
      "Iteration 89, loss = 0.24986160\n",
      "Iteration 90, loss = 0.25033822\n",
      "Iteration 91, loss = 0.24996408\n",
      "Iteration 92, loss = 0.24799153\n",
      "Iteration 93, loss = 0.24904819\n",
      "Iteration 94, loss = 0.25223214\n",
      "Iteration 95, loss = 0.24957068\n",
      "Iteration 96, loss = 0.24676323\n",
      "Iteration 97, loss = 0.24661131\n",
      "Iteration 98, loss = 0.24782990\n",
      "Iteration 99, loss = 0.24746227\n",
      "Iteration 100, loss = 0.24672135\n",
      "Iteration 101, loss = 0.24587183\n",
      "Iteration 102, loss = 0.24615843\n",
      "Iteration 103, loss = 0.24459353\n",
      "Iteration 104, loss = 0.24862680\n",
      "Iteration 105, loss = 0.24477370\n",
      "Iteration 106, loss = 0.24607022\n",
      "Iteration 107, loss = 0.24483875\n",
      "Iteration 108, loss = 0.24362351\n",
      "Iteration 109, loss = 0.24273447\n",
      "Iteration 110, loss = 0.24273024\n",
      "Iteration 111, loss = 0.24290258\n",
      "Iteration 112, loss = 0.24561168\n",
      "Iteration 113, loss = 0.24469713\n",
      "Iteration 114, loss = 0.24416558\n",
      "Iteration 115, loss = 0.24205806\n",
      "Iteration 116, loss = 0.24369209\n",
      "Iteration 117, loss = 0.24376180\n",
      "Iteration 118, loss = 0.24110806\n",
      "Iteration 119, loss = 0.24109363\n",
      "Iteration 120, loss = 0.24184251\n",
      "Iteration 121, loss = 0.24288238\n",
      "Iteration 122, loss = 0.24080074\n",
      "Iteration 123, loss = 0.24082383\n",
      "Iteration 124, loss = 0.24320609\n",
      "Iteration 125, loss = 0.24302085\n",
      "Iteration 126, loss = 0.24360738\n",
      "Iteration 127, loss = 0.24182363\n",
      "Iteration 128, loss = 0.24102273\n",
      "Iteration 129, loss = 0.23990110\n",
      "Iteration 130, loss = 0.24203093\n",
      "Iteration 131, loss = 0.24139968\n",
      "Iteration 132, loss = 0.23957191\n",
      "Iteration 133, loss = 0.24312552\n",
      "Iteration 134, loss = 0.23864018\n",
      "Iteration 135, loss = 0.24102364\n",
      "Iteration 136, loss = 0.23948390\n",
      "Iteration 137, loss = 0.23789539\n",
      "Iteration 138, loss = 0.23954119\n",
      "Iteration 139, loss = 0.24213071\n",
      "Iteration 140, loss = 0.24066630\n",
      "Iteration 141, loss = 0.24020985\n",
      "Iteration 142, loss = 0.23987621\n",
      "Iteration 143, loss = 0.23898510\n",
      "Iteration 144, loss = 0.23907882\n",
      "Iteration 145, loss = 0.23897655\n",
      "Iteration 146, loss = 0.23865508\n",
      "Iteration 147, loss = 0.23950233\n",
      "Iteration 148, loss = 0.24000275\n",
      "Training loss did not improve more than tol=0.000100 for 10 consecutive epochs. Stopping.\n"
     ]
    },
    {
     "data": {
      "text/plain": [
       "MLPClassifier(hidden_layer_sizes=(6, 5), random_state=5, verbose=True)"
      ]
     },
     "execution_count": 14,
     "metadata": {},
     "output_type": "execute_result"
    }
   ],
   "source": [
    "clf2.fit(X_train,y_train)"
   ]
  },
  {
   "cell_type": "code",
   "execution_count": 15,
   "id": "10f772b0",
   "metadata": {},
   "outputs": [
    {
     "data": {
      "text/plain": [
       "0.9144444444444444"
      ]
     },
     "execution_count": 15,
     "metadata": {},
     "output_type": "execute_result"
    }
   ],
   "source": [
    "ypred2=clf2.predict(X_test)\n",
    "accuracy_score(y_test,ypred2)"
   ]
  },
  {
   "cell_type": "code",
   "execution_count": 16,
   "id": "bfc4ddd2",
   "metadata": {},
   "outputs": [
    {
     "data": {
      "text/plain": [
       "[<matplotlib.lines.Line2D at 0x203a812eaf0>]"
      ]
     },
     "execution_count": 16,
     "metadata": {},
     "output_type": "execute_result"
    },
    {
     "data": {
      "image/png": "[encoded data removed]",
      "text/plain": [
       "<Figure size 432x288 with 1 Axes>"
      ]
     },
     "metadata": {
      "needs_background": "light"
     },
     "output_type": "display_data"
    }
   ],
   "source": [
    "plt.plot(clf2.loss_curve_)"
   ]
  },
  {
   "cell_type": "code",
   "execution_count": 17,
   "id": "c74b5443",
   "metadata": {},
   "outputs": [],
   "source": [
    "clf3 = MLPClassifier(hidden_layer_sizes=(6,5), random_state=5, verbose=True, learning_rate_init=0.01, early_stopping = True, validation_fraction = 0.3)"
   ]
  },
  {
   "cell_type": "code",
   "execution_count": 18,
   "id": "d54b5ac7",
   "metadata": {},
   "outputs": [
    {
     "name": "stdout",
     "output_type": "stream",
     "text": [
      "Iteration 1, loss = 0.63543777\n",
      "Validation score: 0.755556\n",
      "Iteration 2, loss = 0.58567266\n",
      "Validation score: 0.761270\n",
      "Iteration 3, loss = 0.57317023\n",
      "Validation score: 0.761905\n",
      "Iteration 4, loss = 0.56198454\n",
      "Validation score: 0.761905\n",
      "Iteration 5, loss = 0.55065966\n",
      "Validation score: 0.761905\n",
      "Iteration 6, loss = 0.53407795\n",
      "Validation score: 0.761905\n",
      "Iteration 7, loss = 0.53174057\n",
      "Validation score: 0.761905\n",
      "Iteration 8, loss = 0.50869003\n",
      "Validation score: 0.752698\n",
      "Iteration 9, loss = 0.49452206\n",
      "Validation score: 0.750159\n",
      "Iteration 10, loss = 0.49701844\n",
      "Validation score: 0.757460\n"
     ]
    },
    {
     "name": "stderr",
     "output_type": "stream",
     "text": [
      "C:\\Users\\sachi\\anaconda3\\lib\\site-packages\\sklearn\\base.py:450: UserWarning: X does not have valid feature names, but MLPClassifier was fitted with feature names\n",
      "  warnings.warn(\n",
      "C:\\Users\\sachi\\anaconda3\\lib\\site-packages\\sklearn\\base.py:450: UserWarning: X does not have valid feature names, but MLPClassifier was fitted with feature names\n",
      "  warnings.warn(\n",
      "C:\\Users\\sachi\\anaconda3\\lib\\site-packages\\sklearn\\base.py:450: UserWarning: X does not have valid feature names, but MLPClassifier was fitted with feature names\n",
      "  warnings.warn(\n",
      "C:\\Users\\sachi\\anaconda3\\lib\\site-packages\\sklearn\\base.py:450: UserWarning: X does not have valid feature names, but MLPClassifier was fitted with feature names\n",
      "  warnings.warn(\n",
      "C:\\Users\\sachi\\anaconda3\\lib\\site-packages\\sklearn\\base.py:450: UserWarning: X does not have valid feature names, but MLPClassifier was fitted with feature names\n",
      "  warnings.warn(\n",
      "C:\\Users\\sachi\\anaconda3\\lib\\site-packages\\sklearn\\base.py:450: UserWarning: X does not have valid feature names, but MLPClassifier was fitted with feature names\n",
      "  warnings.warn(\n",
      "C:\\Users\\sachi\\anaconda3\\lib\\site-packages\\sklearn\\base.py:450: UserWarning: X does not have valid feature names, but MLPClassifier was fitted with feature names\n",
      "  warnings.warn(\n",
      "C:\\Users\\sachi\\anaconda3\\lib\\site-packages\\sklearn\\base.py:450: UserWarning: X does not have valid feature names, but MLPClassifier was fitted with feature names\n",
      "  warnings.warn(\n",
      "C:\\Users\\sachi\\anaconda3\\lib\\site-packages\\sklearn\\base.py:450: UserWarning: X does not have valid feature names, but MLPClassifier was fitted with feature names\n",
      "  warnings.warn(\n",
      "C:\\Users\\sachi\\anaconda3\\lib\\site-packages\\sklearn\\base.py:450: UserWarning: X does not have valid feature names, but MLPClassifier was fitted with feature names\n",
      "  warnings.warn(\n"
     ]
    },
    {
     "name": "stdout",
     "output_type": "stream",
     "text": [
      "Iteration 11, loss = 0.47085668\n",
      "Validation score: 0.751111\n",
      "Iteration 12, loss = 0.46907924\n",
      "Validation score: 0.772063\n",
      "Iteration 13, loss = 0.45926447\n",
      "Validation score: 0.761587\n",
      "Iteration 14, loss = 0.46641126\n",
      "Validation score: 0.753016\n",
      "Iteration 15, loss = 0.46716377\n",
      "Validation score: 0.774286\n",
      "Iteration 16, loss = 0.45918992\n",
      "Validation score: 0.754286\n",
      "Iteration 17, loss = 0.46809787\n",
      "Validation score: 0.760000\n",
      "Iteration 18, loss = 0.45202626\n",
      "Validation score: 0.774603\n",
      "Iteration 19, loss = 0.45803787\n",
      "Validation score: 0.754603\n",
      "Iteration 20, loss = 0.46967719\n"
     ]
    },
    {
     "name": "stderr",
     "output_type": "stream",
     "text": [
      "C:\\Users\\sachi\\anaconda3\\lib\\site-packages\\sklearn\\base.py:450: UserWarning: X does not have valid feature names, but MLPClassifier was fitted with feature names\n",
      "  warnings.warn(\n",
      "C:\\Users\\sachi\\anaconda3\\lib\\site-packages\\sklearn\\base.py:450: UserWarning: X does not have valid feature names, but MLPClassifier was fitted with feature names\n",
      "  warnings.warn(\n",
      "C:\\Users\\sachi\\anaconda3\\lib\\site-packages\\sklearn\\base.py:450: UserWarning: X does not have valid feature names, but MLPClassifier was fitted with feature names\n",
      "  warnings.warn(\n",
      "C:\\Users\\sachi\\anaconda3\\lib\\site-packages\\sklearn\\base.py:450: UserWarning: X does not have valid feature names, but MLPClassifier was fitted with feature names\n",
      "  warnings.warn(\n",
      "C:\\Users\\sachi\\anaconda3\\lib\\site-packages\\sklearn\\base.py:450: UserWarning: X does not have valid feature names, but MLPClassifier was fitted with feature names\n",
      "  warnings.warn(\n",
      "C:\\Users\\sachi\\anaconda3\\lib\\site-packages\\sklearn\\base.py:450: UserWarning: X does not have valid feature names, but MLPClassifier was fitted with feature names\n",
      "  warnings.warn(\n",
      "C:\\Users\\sachi\\anaconda3\\lib\\site-packages\\sklearn\\base.py:450: UserWarning: X does not have valid feature names, but MLPClassifier was fitted with feature names\n",
      "  warnings.warn(\n",
      "C:\\Users\\sachi\\anaconda3\\lib\\site-packages\\sklearn\\base.py:450: UserWarning: X does not have valid feature names, but MLPClassifier was fitted with feature names\n",
      "  warnings.warn(\n",
      "C:\\Users\\sachi\\anaconda3\\lib\\site-packages\\sklearn\\base.py:450: UserWarning: X does not have valid feature names, but MLPClassifier was fitted with feature names\n",
      "  warnings.warn(\n",
      "C:\\Users\\sachi\\anaconda3\\lib\\site-packages\\sklearn\\base.py:450: UserWarning: X does not have valid feature names, but MLPClassifier was fitted with feature names\n",
      "  warnings.warn(\n"
     ]
    },
    {
     "name": "stdout",
     "output_type": "stream",
     "text": [
      "Validation score: 0.765714\n",
      "Iteration 21, loss = 0.44867441\n",
      "Validation score: 0.754921\n",
      "Iteration 22, loss = 0.47147623\n",
      "Validation score: 0.758413\n",
      "Iteration 23, loss = 0.45422628\n",
      "Validation score: 0.765397\n",
      "Iteration 24, loss = 0.45270973\n",
      "Validation score: 0.752381\n",
      "Iteration 25, loss = 0.43766918\n",
      "Validation score: 0.765714\n",
      "Iteration 26, loss = 0.42956906\n",
      "Validation score: 0.786032\n",
      "Iteration 27, loss = 0.42263798\n",
      "Validation score: 0.770476\n",
      "Iteration 28, loss = 0.41181144\n",
      "Validation score: 0.785079\n",
      "Iteration 29, loss = 0.40094415\n"
     ]
    },
    {
     "name": "stderr",
     "output_type": "stream",
     "text": [
      "C:\\Users\\sachi\\anaconda3\\lib\\site-packages\\sklearn\\base.py:450: UserWarning: X does not have valid feature names, but MLPClassifier was fitted with feature names\n",
      "  warnings.warn(\n",
      "C:\\Users\\sachi\\anaconda3\\lib\\site-packages\\sklearn\\base.py:450: UserWarning: X does not have valid feature names, but MLPClassifier was fitted with feature names\n",
      "  warnings.warn(\n",
      "C:\\Users\\sachi\\anaconda3\\lib\\site-packages\\sklearn\\base.py:450: UserWarning: X does not have valid feature names, but MLPClassifier was fitted with feature names\n",
      "  warnings.warn(\n",
      "C:\\Users\\sachi\\anaconda3\\lib\\site-packages\\sklearn\\base.py:450: UserWarning: X does not have valid feature names, but MLPClassifier was fitted with feature names\n",
      "  warnings.warn(\n",
      "C:\\Users\\sachi\\anaconda3\\lib\\site-packages\\sklearn\\base.py:450: UserWarning: X does not have valid feature names, but MLPClassifier was fitted with feature names\n",
      "  warnings.warn(\n",
      "C:\\Users\\sachi\\anaconda3\\lib\\site-packages\\sklearn\\base.py:450: UserWarning: X does not have valid feature names, but MLPClassifier was fitted with feature names\n",
      "  warnings.warn(\n",
      "C:\\Users\\sachi\\anaconda3\\lib\\site-packages\\sklearn\\base.py:450: UserWarning: X does not have valid feature names, but MLPClassifier was fitted with feature names\n",
      "  warnings.warn(\n",
      "C:\\Users\\sachi\\anaconda3\\lib\\site-packages\\sklearn\\base.py:450: UserWarning: X does not have valid feature names, but MLPClassifier was fitted with feature names\n",
      "  warnings.warn(\n",
      "C:\\Users\\sachi\\anaconda3\\lib\\site-packages\\sklearn\\base.py:450: UserWarning: X does not have valid feature names, but MLPClassifier was fitted with feature names\n",
      "  warnings.warn(\n",
      "C:\\Users\\sachi\\anaconda3\\lib\\site-packages\\sklearn\\base.py:450: UserWarning: X does not have valid feature names, but MLPClassifier was fitted with feature names\n",
      "  warnings.warn(\n"
     ]
    },
    {
     "name": "stdout",
     "output_type": "stream",
     "text": [
      "Validation score: 0.765714\n",
      "Iteration 30, loss = 0.38315447\n",
      "Validation score: 0.781270\n",
      "Iteration 31, loss = 0.38314511\n",
      "Validation score: 0.786349\n",
      "Iteration 32, loss = 0.36103258\n",
      "Validation score: 0.805079\n",
      "Iteration 33, loss = 0.35510023\n",
      "Validation score: 0.842857\n",
      "Iteration 34, loss = 0.34050989\n",
      "Validation score: 0.836508\n",
      "Iteration 35, loss = 0.33306514\n",
      "Validation score: 0.837778\n",
      "Iteration 36, loss = 0.32223209\n",
      "Validation score: 0.845714\n",
      "Iteration 37, loss = 0.32593037\n",
      "Validation score: 0.853333\n",
      "Iteration 38, loss = 0.32145344\n"
     ]
    },
    {
     "name": "stderr",
     "output_type": "stream",
     "text": [
      "C:\\Users\\sachi\\anaconda3\\lib\\site-packages\\sklearn\\base.py:450: UserWarning: X does not have valid feature names, but MLPClassifier was fitted with feature names\n",
      "  warnings.warn(\n",
      "C:\\Users\\sachi\\anaconda3\\lib\\site-packages\\sklearn\\base.py:450: UserWarning: X does not have valid feature names, but MLPClassifier was fitted with feature names\n",
      "  warnings.warn(\n",
      "C:\\Users\\sachi\\anaconda3\\lib\\site-packages\\sklearn\\base.py:450: UserWarning: X does not have valid feature names, but MLPClassifier was fitted with feature names\n",
      "  warnings.warn(\n",
      "C:\\Users\\sachi\\anaconda3\\lib\\site-packages\\sklearn\\base.py:450: UserWarning: X does not have valid feature names, but MLPClassifier was fitted with feature names\n",
      "  warnings.warn(\n",
      "C:\\Users\\sachi\\anaconda3\\lib\\site-packages\\sklearn\\base.py:450: UserWarning: X does not have valid feature names, but MLPClassifier was fitted with feature names\n",
      "  warnings.warn(\n",
      "C:\\Users\\sachi\\anaconda3\\lib\\site-packages\\sklearn\\base.py:450: UserWarning: X does not have valid feature names, but MLPClassifier was fitted with feature names\n",
      "  warnings.warn(\n",
      "C:\\Users\\sachi\\anaconda3\\lib\\site-packages\\sklearn\\base.py:450: UserWarning: X does not have valid feature names, but MLPClassifier was fitted with feature names\n",
      "  warnings.warn(\n",
      "C:\\Users\\sachi\\anaconda3\\lib\\site-packages\\sklearn\\base.py:450: UserWarning: X does not have valid feature names, but MLPClassifier was fitted with feature names\n",
      "  warnings.warn(\n",
      "C:\\Users\\sachi\\anaconda3\\lib\\site-packages\\sklearn\\base.py:450: UserWarning: X does not have valid feature names, but MLPClassifier was fitted with feature names\n",
      "  warnings.warn(\n",
      "C:\\Users\\sachi\\anaconda3\\lib\\site-packages\\sklearn\\base.py:450: UserWarning: X does not have valid feature names, but MLPClassifier was fitted with feature names\n",
      "  warnings.warn(\n"
     ]
    },
    {
     "name": "stdout",
     "output_type": "stream",
     "text": [
      "Validation score: 0.848889\n",
      "Iteration 39, loss = 0.30834752\n",
      "Validation score: 0.862540\n",
      "Iteration 40, loss = 0.30270998\n",
      "Validation score: 0.846032\n",
      "Iteration 41, loss = 0.30514114\n",
      "Validation score: 0.852698\n",
      "Iteration 42, loss = 0.30457195\n",
      "Validation score: 0.869524\n",
      "Iteration 43, loss = 0.30081454\n",
      "Validation score: 0.858730\n",
      "Iteration 44, loss = 0.29832796\n",
      "Validation score: 0.871429\n",
      "Iteration 45, loss = 0.29411047\n",
      "Validation score: 0.864444\n",
      "Iteration 46, loss = 0.29364408\n",
      "Validation score: 0.874603\n",
      "Iteration 47, loss = 0.29948990\n"
     ]
    },
    {
     "name": "stderr",
     "output_type": "stream",
     "text": [
      "C:\\Users\\sachi\\anaconda3\\lib\\site-packages\\sklearn\\base.py:450: UserWarning: X does not have valid feature names, but MLPClassifier was fitted with feature names\n",
      "  warnings.warn(\n",
      "C:\\Users\\sachi\\anaconda3\\lib\\site-packages\\sklearn\\base.py:450: UserWarning: X does not have valid feature names, but MLPClassifier was fitted with feature names\n",
      "  warnings.warn(\n",
      "C:\\Users\\sachi\\anaconda3\\lib\\site-packages\\sklearn\\base.py:450: UserWarning: X does not have valid feature names, but MLPClassifier was fitted with feature names\n",
      "  warnings.warn(\n",
      "C:\\Users\\sachi\\anaconda3\\lib\\site-packages\\sklearn\\base.py:450: UserWarning: X does not have valid feature names, but MLPClassifier was fitted with feature names\n",
      "  warnings.warn(\n",
      "C:\\Users\\sachi\\anaconda3\\lib\\site-packages\\sklearn\\base.py:450: UserWarning: X does not have valid feature names, but MLPClassifier was fitted with feature names\n",
      "  warnings.warn(\n",
      "C:\\Users\\sachi\\anaconda3\\lib\\site-packages\\sklearn\\base.py:450: UserWarning: X does not have valid feature names, but MLPClassifier was fitted with feature names\n",
      "  warnings.warn(\n",
      "C:\\Users\\sachi\\anaconda3\\lib\\site-packages\\sklearn\\base.py:450: UserWarning: X does not have valid feature names, but MLPClassifier was fitted with feature names\n",
      "  warnings.warn(\n",
      "C:\\Users\\sachi\\anaconda3\\lib\\site-packages\\sklearn\\base.py:450: UserWarning: X does not have valid feature names, but MLPClassifier was fitted with feature names\n",
      "  warnings.warn(\n",
      "C:\\Users\\sachi\\anaconda3\\lib\\site-packages\\sklearn\\base.py:450: UserWarning: X does not have valid feature names, but MLPClassifier was fitted with feature names\n",
      "  warnings.warn(\n",
      "C:\\Users\\sachi\\anaconda3\\lib\\site-packages\\sklearn\\base.py:450: UserWarning: X does not have valid feature names, but MLPClassifier was fitted with feature names\n",
      "  warnings.warn(\n"
     ]
    },
    {
     "name": "stdout",
     "output_type": "stream",
     "text": [
      "Validation score: 0.877143\n",
      "Iteration 48, loss = 0.30085959\n",
      "Validation score: 0.871746\n",
      "Iteration 49, loss = 0.29224552\n",
      "Validation score: 0.866667\n",
      "Iteration 50, loss = 0.29122919\n",
      "Validation score: 0.861587\n",
      "Iteration 51, loss = 0.29541910\n",
      "Validation score: 0.877143\n",
      "Iteration 52, loss = 0.28420572\n",
      "Validation score: 0.886984\n",
      "Iteration 53, loss = 0.28594829\n",
      "Validation score: 0.885397\n",
      "Iteration 54, loss = 0.27946451\n",
      "Validation score: 0.879683\n",
      "Iteration 55, loss = 0.27788344\n",
      "Validation score: 0.879365\n",
      "Iteration 56, loss = 0.30129978\n"
     ]
    },
    {
     "name": "stderr",
     "output_type": "stream",
     "text": [
      "C:\\Users\\sachi\\anaconda3\\lib\\site-packages\\sklearn\\base.py:450: UserWarning: X does not have valid feature names, but MLPClassifier was fitted with feature names\n",
      "  warnings.warn(\n",
      "C:\\Users\\sachi\\anaconda3\\lib\\site-packages\\sklearn\\base.py:450: UserWarning: X does not have valid feature names, but MLPClassifier was fitted with feature names\n",
      "  warnings.warn(\n",
      "C:\\Users\\sachi\\anaconda3\\lib\\site-packages\\sklearn\\base.py:450: UserWarning: X does not have valid feature names, but MLPClassifier was fitted with feature names\n",
      "  warnings.warn(\n",
      "C:\\Users\\sachi\\anaconda3\\lib\\site-packages\\sklearn\\base.py:450: UserWarning: X does not have valid feature names, but MLPClassifier was fitted with feature names\n",
      "  warnings.warn(\n",
      "C:\\Users\\sachi\\anaconda3\\lib\\site-packages\\sklearn\\base.py:450: UserWarning: X does not have valid feature names, but MLPClassifier was fitted with feature names\n",
      "  warnings.warn(\n",
      "C:\\Users\\sachi\\anaconda3\\lib\\site-packages\\sklearn\\base.py:450: UserWarning: X does not have valid feature names, but MLPClassifier was fitted with feature names\n",
      "  warnings.warn(\n",
      "C:\\Users\\sachi\\anaconda3\\lib\\site-packages\\sklearn\\base.py:450: UserWarning: X does not have valid feature names, but MLPClassifier was fitted with feature names\n",
      "  warnings.warn(\n",
      "C:\\Users\\sachi\\anaconda3\\lib\\site-packages\\sklearn\\base.py:450: UserWarning: X does not have valid feature names, but MLPClassifier was fitted with feature names\n",
      "  warnings.warn(\n",
      "C:\\Users\\sachi\\anaconda3\\lib\\site-packages\\sklearn\\base.py:450: UserWarning: X does not have valid feature names, but MLPClassifier was fitted with feature names\n",
      "  warnings.warn(\n",
      "C:\\Users\\sachi\\anaconda3\\lib\\site-packages\\sklearn\\base.py:450: UserWarning: X does not have valid feature names, but MLPClassifier was fitted with feature names\n",
      "  warnings.warn(\n"
     ]
    },
    {
     "name": "stdout",
     "output_type": "stream",
     "text": [
      "Validation score: 0.887302\n",
      "Iteration 57, loss = 0.27303292\n",
      "Validation score: 0.890159\n",
      "Iteration 58, loss = 0.27261646\n",
      "Validation score: 0.889206\n",
      "Iteration 59, loss = 0.28670662\n",
      "Validation score: 0.886349\n",
      "Iteration 60, loss = 0.28393853\n",
      "Validation score: 0.882857\n",
      "Iteration 61, loss = 0.27384085\n",
      "Validation score: 0.873651\n",
      "Iteration 62, loss = 0.27211494\n",
      "Validation score: 0.885079\n",
      "Iteration 63, loss = 0.27034554\n",
      "Validation score: 0.893016\n",
      "Iteration 64, loss = 0.26895025\n",
      "Validation score: 0.889206\n",
      "Iteration 65, loss = 0.26817309\n"
     ]
    },
    {
     "name": "stderr",
     "output_type": "stream",
     "text": [
      "C:\\Users\\sachi\\anaconda3\\lib\\site-packages\\sklearn\\base.py:450: UserWarning: X does not have valid feature names, but MLPClassifier was fitted with feature names\n",
      "  warnings.warn(\n",
      "C:\\Users\\sachi\\anaconda3\\lib\\site-packages\\sklearn\\base.py:450: UserWarning: X does not have valid feature names, but MLPClassifier was fitted with feature names\n",
      "  warnings.warn(\n",
      "C:\\Users\\sachi\\anaconda3\\lib\\site-packages\\sklearn\\base.py:450: UserWarning: X does not have valid feature names, but MLPClassifier was fitted with feature names\n",
      "  warnings.warn(\n",
      "C:\\Users\\sachi\\anaconda3\\lib\\site-packages\\sklearn\\base.py:450: UserWarning: X does not have valid feature names, but MLPClassifier was fitted with feature names\n",
      "  warnings.warn(\n",
      "C:\\Users\\sachi\\anaconda3\\lib\\site-packages\\sklearn\\base.py:450: UserWarning: X does not have valid feature names, but MLPClassifier was fitted with feature names\n",
      "  warnings.warn(\n",
      "C:\\Users\\sachi\\anaconda3\\lib\\site-packages\\sklearn\\base.py:450: UserWarning: X does not have valid feature names, but MLPClassifier was fitted with feature names\n",
      "  warnings.warn(\n",
      "C:\\Users\\sachi\\anaconda3\\lib\\site-packages\\sklearn\\base.py:450: UserWarning: X does not have valid feature names, but MLPClassifier was fitted with feature names\n",
      "  warnings.warn(\n",
      "C:\\Users\\sachi\\anaconda3\\lib\\site-packages\\sklearn\\base.py:450: UserWarning: X does not have valid feature names, but MLPClassifier was fitted with feature names\n",
      "  warnings.warn(\n",
      "C:\\Users\\sachi\\anaconda3\\lib\\site-packages\\sklearn\\base.py:450: UserWarning: X does not have valid feature names, but MLPClassifier was fitted with feature names\n",
      "  warnings.warn(\n",
      "C:\\Users\\sachi\\anaconda3\\lib\\site-packages\\sklearn\\base.py:450: UserWarning: X does not have valid feature names, but MLPClassifier was fitted with feature names\n",
      "  warnings.warn(\n"
     ]
    },
    {
     "name": "stdout",
     "output_type": "stream",
     "text": [
      "Validation score: 0.889841\n",
      "Iteration 66, loss = 0.26561865\n",
      "Validation score: 0.890794\n",
      "Iteration 67, loss = 0.27637189\n",
      "Validation score: 0.893968\n",
      "Iteration 68, loss = 0.26424522\n",
      "Validation score: 0.864444\n",
      "Iteration 69, loss = 0.27046673\n",
      "Validation score: 0.884127\n",
      "Iteration 70, loss = 0.26333674\n",
      "Validation score: 0.894921\n",
      "Iteration 71, loss = 0.25938725\n",
      "Validation score: 0.899365\n",
      "Iteration 72, loss = 0.25394028\n",
      "Validation score: 0.898413\n",
      "Iteration 73, loss = 0.25804137\n",
      "Validation score: 0.901905\n",
      "Iteration 74, loss = 0.26667976\n"
     ]
    },
    {
     "name": "stderr",
     "output_type": "stream",
     "text": [
      "C:\\Users\\sachi\\anaconda3\\lib\\site-packages\\sklearn\\base.py:450: UserWarning: X does not have valid feature names, but MLPClassifier was fitted with feature names\n",
      "  warnings.warn(\n",
      "C:\\Users\\sachi\\anaconda3\\lib\\site-packages\\sklearn\\base.py:450: UserWarning: X does not have valid feature names, but MLPClassifier was fitted with feature names\n",
      "  warnings.warn(\n",
      "C:\\Users\\sachi\\anaconda3\\lib\\site-packages\\sklearn\\base.py:450: UserWarning: X does not have valid feature names, but MLPClassifier was fitted with feature names\n",
      "  warnings.warn(\n",
      "C:\\Users\\sachi\\anaconda3\\lib\\site-packages\\sklearn\\base.py:450: UserWarning: X does not have valid feature names, but MLPClassifier was fitted with feature names\n",
      "  warnings.warn(\n",
      "C:\\Users\\sachi\\anaconda3\\lib\\site-packages\\sklearn\\base.py:450: UserWarning: X does not have valid feature names, but MLPClassifier was fitted with feature names\n",
      "  warnings.warn(\n",
      "C:\\Users\\sachi\\anaconda3\\lib\\site-packages\\sklearn\\base.py:450: UserWarning: X does not have valid feature names, but MLPClassifier was fitted with feature names\n",
      "  warnings.warn(\n",
      "C:\\Users\\sachi\\anaconda3\\lib\\site-packages\\sklearn\\base.py:450: UserWarning: X does not have valid feature names, but MLPClassifier was fitted with feature names\n",
      "  warnings.warn(\n",
      "C:\\Users\\sachi\\anaconda3\\lib\\site-packages\\sklearn\\base.py:450: UserWarning: X does not have valid feature names, but MLPClassifier was fitted with feature names\n",
      "  warnings.warn(\n",
      "C:\\Users\\sachi\\anaconda3\\lib\\site-packages\\sklearn\\base.py:450: UserWarning: X does not have valid feature names, but MLPClassifier was fitted with feature names\n",
      "  warnings.warn(\n"
     ]
    },
    {
     "name": "stdout",
     "output_type": "stream",
     "text": [
      "Validation score: 0.897460\n",
      "Iteration 75, loss = 0.26224174\n",
      "Validation score: 0.876190\n",
      "Iteration 76, loss = 0.27377292\n",
      "Validation score: 0.867619\n",
      "Iteration 77, loss = 0.25478410\n",
      "Validation score: 0.898730\n",
      "Iteration 78, loss = 0.26811799\n",
      "Validation score: 0.902857\n",
      "Iteration 79, loss = 0.24730617\n",
      "Validation score: 0.905079\n",
      "Iteration 80, loss = 0.25223777\n",
      "Validation score: 0.892063\n",
      "Iteration 81, loss = 0.26067401\n",
      "Validation score: 0.901587\n",
      "Iteration 82, loss = 0.25015774\n"
     ]
    },
    {
     "name": "stderr",
     "output_type": "stream",
     "text": [
      "C:\\Users\\sachi\\anaconda3\\lib\\site-packages\\sklearn\\base.py:450: UserWarning: X does not have valid feature names, but MLPClassifier was fitted with feature names\n",
      "  warnings.warn(\n",
      "C:\\Users\\sachi\\anaconda3\\lib\\site-packages\\sklearn\\base.py:450: UserWarning: X does not have valid feature names, but MLPClassifier was fitted with feature names\n",
      "  warnings.warn(\n",
      "C:\\Users\\sachi\\anaconda3\\lib\\site-packages\\sklearn\\base.py:450: UserWarning: X does not have valid feature names, but MLPClassifier was fitted with feature names\n",
      "  warnings.warn(\n",
      "C:\\Users\\sachi\\anaconda3\\lib\\site-packages\\sklearn\\base.py:450: UserWarning: X does not have valid feature names, but MLPClassifier was fitted with feature names\n",
      "  warnings.warn(\n",
      "C:\\Users\\sachi\\anaconda3\\lib\\site-packages\\sklearn\\base.py:450: UserWarning: X does not have valid feature names, but MLPClassifier was fitted with feature names\n",
      "  warnings.warn(\n",
      "C:\\Users\\sachi\\anaconda3\\lib\\site-packages\\sklearn\\base.py:450: UserWarning: X does not have valid feature names, but MLPClassifier was fitted with feature names\n",
      "  warnings.warn(\n",
      "C:\\Users\\sachi\\anaconda3\\lib\\site-packages\\sklearn\\base.py:450: UserWarning: X does not have valid feature names, but MLPClassifier was fitted with feature names\n",
      "  warnings.warn(\n",
      "C:\\Users\\sachi\\anaconda3\\lib\\site-packages\\sklearn\\base.py:450: UserWarning: X does not have valid feature names, but MLPClassifier was fitted with feature names\n",
      "  warnings.warn(\n",
      "C:\\Users\\sachi\\anaconda3\\lib\\site-packages\\sklearn\\base.py:450: UserWarning: X does not have valid feature names, but MLPClassifier was fitted with feature names\n",
      "  warnings.warn(\n",
      "C:\\Users\\sachi\\anaconda3\\lib\\site-packages\\sklearn\\base.py:450: UserWarning: X does not have valid feature names, but MLPClassifier was fitted with feature names\n",
      "  warnings.warn(\n"
     ]
    },
    {
     "name": "stdout",
     "output_type": "stream",
     "text": [
      "Validation score: 0.903175\n",
      "Iteration 83, loss = 0.27858371\n",
      "Validation score: 0.896190\n",
      "Iteration 84, loss = 0.25889278\n",
      "Validation score: 0.898413\n",
      "Iteration 85, loss = 0.25039661\n",
      "Validation score: 0.905079\n",
      "Iteration 86, loss = 0.24776025\n",
      "Validation score: 0.905714\n",
      "Iteration 87, loss = 0.24556800\n",
      "Validation score: 0.899048\n",
      "Iteration 88, loss = 0.24527817\n",
      "Validation score: 0.907302\n",
      "Iteration 89, loss = 0.25099000\n",
      "Validation score: 0.906032\n",
      "Iteration 90, loss = 0.25615656\n",
      "Validation score: 0.910476\n",
      "Iteration 91, loss = 0.24358439\n"
     ]
    },
    {
     "name": "stderr",
     "output_type": "stream",
     "text": [
      "C:\\Users\\sachi\\anaconda3\\lib\\site-packages\\sklearn\\base.py:450: UserWarning: X does not have valid feature names, but MLPClassifier was fitted with feature names\n",
      "  warnings.warn(\n",
      "C:\\Users\\sachi\\anaconda3\\lib\\site-packages\\sklearn\\base.py:450: UserWarning: X does not have valid feature names, but MLPClassifier was fitted with feature names\n",
      "  warnings.warn(\n",
      "C:\\Users\\sachi\\anaconda3\\lib\\site-packages\\sklearn\\base.py:450: UserWarning: X does not have valid feature names, but MLPClassifier was fitted with feature names\n",
      "  warnings.warn(\n",
      "C:\\Users\\sachi\\anaconda3\\lib\\site-packages\\sklearn\\base.py:450: UserWarning: X does not have valid feature names, but MLPClassifier was fitted with feature names\n",
      "  warnings.warn(\n",
      "C:\\Users\\sachi\\anaconda3\\lib\\site-packages\\sklearn\\base.py:450: UserWarning: X does not have valid feature names, but MLPClassifier was fitted with feature names\n",
      "  warnings.warn(\n",
      "C:\\Users\\sachi\\anaconda3\\lib\\site-packages\\sklearn\\base.py:450: UserWarning: X does not have valid feature names, but MLPClassifier was fitted with feature names\n",
      "  warnings.warn(\n",
      "C:\\Users\\sachi\\anaconda3\\lib\\site-packages\\sklearn\\base.py:450: UserWarning: X does not have valid feature names, but MLPClassifier was fitted with feature names\n",
      "  warnings.warn(\n",
      "C:\\Users\\sachi\\anaconda3\\lib\\site-packages\\sklearn\\base.py:450: UserWarning: X does not have valid feature names, but MLPClassifier was fitted with feature names\n",
      "  warnings.warn(\n",
      "C:\\Users\\sachi\\anaconda3\\lib\\site-packages\\sklearn\\base.py:450: UserWarning: X does not have valid feature names, but MLPClassifier was fitted with feature names\n",
      "  warnings.warn(\n"
     ]
    },
    {
     "name": "stdout",
     "output_type": "stream",
     "text": [
      "Validation score: 0.909524\n",
      "Iteration 92, loss = 0.25073289\n",
      "Validation score: 0.900000\n",
      "Iteration 93, loss = 0.26346382\n",
      "Validation score: 0.900635\n",
      "Iteration 94, loss = 0.24171722\n",
      "Validation score: 0.888571\n",
      "Iteration 95, loss = 0.26358095\n",
      "Validation score: 0.909206\n",
      "Iteration 96, loss = 0.23966092\n",
      "Validation score: 0.909841\n",
      "Iteration 97, loss = 0.24828305\n",
      "Validation score: 0.912698\n",
      "Iteration 98, loss = 0.24697532\n",
      "Validation score: 0.903810\n",
      "Iteration 99, loss = 0.25058189\n",
      "Validation score: 0.907619\n",
      "Iteration 100, loss = 0.25999732\n"
     ]
    },
    {
     "name": "stderr",
     "output_type": "stream",
     "text": [
      "C:\\Users\\sachi\\anaconda3\\lib\\site-packages\\sklearn\\base.py:450: UserWarning: X does not have valid feature names, but MLPClassifier was fitted with feature names\n",
      "  warnings.warn(\n",
      "C:\\Users\\sachi\\anaconda3\\lib\\site-packages\\sklearn\\base.py:450: UserWarning: X does not have valid feature names, but MLPClassifier was fitted with feature names\n",
      "  warnings.warn(\n",
      "C:\\Users\\sachi\\anaconda3\\lib\\site-packages\\sklearn\\base.py:450: UserWarning: X does not have valid feature names, but MLPClassifier was fitted with feature names\n",
      "  warnings.warn(\n",
      "C:\\Users\\sachi\\anaconda3\\lib\\site-packages\\sklearn\\base.py:450: UserWarning: X does not have valid feature names, but MLPClassifier was fitted with feature names\n",
      "  warnings.warn(\n",
      "C:\\Users\\sachi\\anaconda3\\lib\\site-packages\\sklearn\\base.py:450: UserWarning: X does not have valid feature names, but MLPClassifier was fitted with feature names\n",
      "  warnings.warn(\n",
      "C:\\Users\\sachi\\anaconda3\\lib\\site-packages\\sklearn\\base.py:450: UserWarning: X does not have valid feature names, but MLPClassifier was fitted with feature names\n",
      "  warnings.warn(\n",
      "C:\\Users\\sachi\\anaconda3\\lib\\site-packages\\sklearn\\base.py:450: UserWarning: X does not have valid feature names, but MLPClassifier was fitted with feature names\n",
      "  warnings.warn(\n",
      "C:\\Users\\sachi\\anaconda3\\lib\\site-packages\\sklearn\\base.py:450: UserWarning: X does not have valid feature names, but MLPClassifier was fitted with feature names\n",
      "  warnings.warn(\n",
      "C:\\Users\\sachi\\anaconda3\\lib\\site-packages\\sklearn\\base.py:450: UserWarning: X does not have valid feature names, but MLPClassifier was fitted with feature names\n",
      "  warnings.warn(\n",
      "C:\\Users\\sachi\\anaconda3\\lib\\site-packages\\sklearn\\base.py:450: UserWarning: X does not have valid feature names, but MLPClassifier was fitted with feature names\n",
      "  warnings.warn(\n"
     ]
    },
    {
     "name": "stdout",
     "output_type": "stream",
     "text": [
      "Validation score: 0.901905\n",
      "Iteration 101, loss = 0.25932968\n",
      "Validation score: 0.908571\n",
      "Iteration 102, loss = 0.24716404\n",
      "Validation score: 0.897778\n",
      "Iteration 103, loss = 0.25454736\n",
      "Validation score: 0.893651\n",
      "Iteration 104, loss = 0.27592451\n",
      "Validation score: 0.900635\n",
      "Iteration 105, loss = 0.24430213\n",
      "Validation score: 0.911746\n",
      "Iteration 106, loss = 0.24403824\n",
      "Validation score: 0.908889\n",
      "Iteration 107, loss = 0.25264782\n",
      "Validation score: 0.905397\n",
      "Iteration 108, loss = 0.23621858\n",
      "Validation score: 0.910159\n",
      "Validation score did not improve more than tol=0.000100 for 10 consecutive epochs. Stopping.\n"
     ]
    },
    {
     "data": {
      "text/plain": [
       "MLPClassifier(early_stopping=True, hidden_layer_sizes=(6, 5),\n",
       "              learning_rate_init=0.01, random_state=5, validation_fraction=0.3,\n",
       "              verbose=True)"
      ]
     },
     "execution_count": 18,
     "metadata": {},
     "output_type": "execute_result"
    }
   ],
   "source": [
    "clf3.fit(X_train,y_train)"
   ]
  },
  {
   "cell_type": "code",
   "execution_count": 19,
   "id": "a5fccca1",
   "metadata": {},
   "outputs": [
    {
     "data": {
      "text/plain": [
       "[<matplotlib.lines.Line2D at 0x203a8207b80>]"
      ]
     },
     "execution_count": 19,
     "metadata": {},
     "output_type": "execute_result"
    },
    {
     "data": {
      "image/png": "[encoded data removed]",
      "text/plain": [
       "<Figure size 432x288 with 1 Axes>"
      ]
     },
     "metadata": {
      "needs_background": "light"
     },
     "output_type": "display_data"
    }
   ],
   "source": [
    "plt.plot(clf3.loss_curve_)"
   ]
  },
  {
   "cell_type": "code",
   "execution_count": 20,
   "id": "822ebfef",
   "metadata": {},
   "outputs": [],
   "source": [
    "ypred3=clf3.predict(X_test)"
   ]
  },
  {
   "cell_type": "code",
   "execution_count": 21,
   "id": "633d010b",
   "metadata": {},
   "outputs": [
    {
     "data": {
      "text/plain": [
       "0.9077777777777778"
      ]
     },
     "execution_count": 21,
     "metadata": {},
     "output_type": "execute_result"
    }
   ],
   "source": [
    "accuracy_score(y_test,ypred3)"
   ]
  },
  {
   "cell_type": "code",
   "execution_count": null,
   "id": "f27d6d36",
   "metadata": {},
   "outputs": [],
   "source": []
  }
 ],
 "metadata": {
  "kernelspec": {
   "display_name": "Python 3 (ipykernel)",
   "language": "python",
   "name": "python3"
  },
  "language_info": {
   "codemirror_mode": {
    "name": "ipython",
    "version": 3
   },
   "file_extension": ".py",
   "mimetype": "text/x-python",
   "name": "python",
   "nbconvert_exporter": "python",
   "pygments_lexer": "ipython3",
   "version": "3.9.12"
  }
 },
 "nbformat": 4,
 "nbformat_minor": 5
}
